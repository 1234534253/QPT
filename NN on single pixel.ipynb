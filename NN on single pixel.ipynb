{
 "cells": [
  {
   "cell_type": "markdown",
   "id": "delayed-principal",
   "metadata": {},
   "source": [
    "# Reconstruction of single unitaries with NNs"
   ]
  },
  {
   "cell_type": "code",
   "execution_count": 1,
   "id": "further-yukon",
   "metadata": {},
   "outputs": [],
   "source": [
    "#libraries\n",
    "import matplotlib.pyplot as plt\n",
    "import numpy as np\n",
    "\n",
    "from tensorflow.keras.models import Sequential\n",
    "from tensorflow.keras import Sequential\n",
    "from tensorflow.keras.layers import Dense\n",
    "from tensorflow.keras.layers import GaussianDropout\n",
    "from tensorflow.keras import optimizers\n",
    "import tensorflow as tf"
   ]
  },
  {
   "cell_type": "code",
   "execution_count": 2,
   "id": "short-midnight",
   "metadata": {},
   "outputs": [],
   "source": [
    "#number of evolutions\n",
    "num_unit=1000"
   ]
  },
  {
   "cell_type": "markdown",
   "id": "floating-family",
   "metadata": {},
   "source": [
    "# Theoretical values (if available)"
   ]
  },
  {
   "cell_type": "code",
   "execution_count": 3,
   "id": "traditional-banks",
   "metadata": {},
   "outputs": [],
   "source": [
    "th_mat=np.zeros([num_unit,4])\n",
    "#select correct path\n",
    "theta_th=np.loadtxt(\"dataset_gaussian//random_Theta.txt\", dtype='f', delimiter='\\t')\n",
    "nx_th=np.loadtxt(\"dataset_gaussian//random_nx.txt\", dtype='f', delimiter='\\t')\n",
    "ny_th=np.loadtxt(\"dataset_gaussian//random_ny.txt\", dtype='f', delimiter='\\t')\n",
    "nz_th=np.loadtxt(\"dataset_gaussian//random_nz.txt\", dtype='f', delimiter='\\t')"
   ]
  },
  {
   "cell_type": "code",
   "execution_count": 10,
   "id": "seventh-circus",
   "metadata": {},
   "outputs": [],
   "source": [
    "#definition of fidelity function\n",
    "def op_par(En,nx,ny,nz):\n",
    "    mat=np.zeros([2,2],dtype=complex)\n",
    "    \n",
    "    mat[0,0]=np.cos(En) - 1j*np.sin(En)*nz\n",
    "    mat[0,1]=-1j*np.sin(En)*(nx - 1j*ny)\n",
    "    mat[1,0]=-1j*np.sin(En)*(nx + 1j*ny)\n",
    "    mat[1,1]=np.cos(En) + 1j*np.sin(En)*nz\n",
    "    \n",
    "    return mat\n",
    "\n",
    "def fidelity(mat1,mat2):\n",
    "    prod=np.trace(np.dot(np.conjugate(mat1.T),mat2))\n",
    "    \n",
    "    return 0.5*np.abs(prod)"
   ]
  },
  {
   "cell_type": "markdown",
   "id": "equal-shipping",
   "metadata": {},
   "source": [
    "# Experimental data"
   ]
  },
  {
   "cell_type": "code",
   "execution_count": 5,
   "id": "worst-registration",
   "metadata": {},
   "outputs": [],
   "source": [
    "LL = np.loadtxt(\"dataset_gaussian//LL.txt\", dtype='f', delimiter='\\t')\n",
    "HH = np.loadtxt(\"dataset_gaussian//HH.txt\", dtype='f', delimiter='\\t') \n",
    "LD = np.loadtxt(\"dataset_gaussian//LD.txt\", dtype='f', delimiter='\\t')\n",
    "LH = np.loadtxt(\"dataset_gaussian//LH.txt\", dtype='f', delimiter='\\t')\n",
    "HD = np.loadtxt(\"dataset_gaussian//HD.txt\", dtype='f', delimiter='\\t')\n",
    "HL = np.loadtxt(\"dataset_gaussian//HL.txt\", dtype='f', delimiter='\\t')"
   ]
  },
  {
   "cell_type": "markdown",
   "id": "greek-sociology",
   "metadata": {},
   "source": [
    "# 6 inputs prediction"
   ]
  },
  {
   "cell_type": "markdown",
   "id": "tribal-fellowship",
   "metadata": {},
   "source": [
    "Here and in the following, the models will be loaded with different names. If memory is an issue, save them with the same name."
   ]
  },
  {
   "cell_type": "code",
   "execution_count": 6,
   "id": "elegant-anime",
   "metadata": {},
   "outputs": [],
   "source": [
    "json_file = open(r'./models/NN_qw_gen6opt.json', 'r') #path of NN 6 inputs json file\n",
    "loaded_model_json = json_file.read()\n",
    "json_file.close()\n",
    "loaded_model6 = tf.keras.models.model_from_json(loaded_model_json)\n",
    "loaded_model6.load_weights(r'./models/NN_qw_gen6opt.h5') #path of NN 6 inputs h5 file"
   ]
  },
  {
   "cell_type": "code",
   "execution_count": null,
   "id": "dynamic-sweet",
   "metadata": {},
   "outputs": [],
   "source": [
    "data6=np.zeros([num_unit,6])\n",
    "data6[:,0]=LL\n",
    "data6[:,1]=LH\n",
    "data6[:,2]=LD\n",
    "data6[:,3]=HL\n",
    "data6[:,4]=HH\n",
    "data6[:,5]=HD"
   ]
  },
  {
   "cell_type": "code",
   "execution_count": 11,
   "id": "antique-needle",
   "metadata": {},
   "outputs": [],
   "source": [
    "y_pred6=loaded_model6.predict(data6)\n",
    "theta_vect6=y_pred6[:,0]*np.pi\n",
    "nx_vect6=y_pred6[:,1]*2 -1 \n",
    "ny_vect6=(y_pred6[:,2]*2 -1)*np.sqrt(1-nx_vect**2)\n",
    "\n",
    "nz_vect6=np.sqrt(abs(1-nx_vect**2-ny_vect**2))"
   ]
  },
  {
   "cell_type": "markdown",
   "id": "small-mailman",
   "metadata": {},
   "source": [
    "# 5 inputs prediction"
   ]
  },
  {
   "cell_type": "code",
   "execution_count": 12,
   "id": "pacific-bankruptcy",
   "metadata": {},
   "outputs": [],
   "source": [
    "json_file = open(r'./models/NN_qw_gen5opt.json', 'r') #path of NN 5 inputs json file\n",
    "loaded_model_json = json_file.read()\n",
    "json_file.close()\n",
    "loaded_model5 = tf.keras.models.model_from_json(loaded_model_json)\n",
    "loaded_model5.load_weights(r'./models/NN_qw_gen5opt.h5') #path of NN 5 inputs h5 file"
   ]
  },
  {
   "cell_type": "code",
   "execution_count": 13,
   "id": "offensive-capability",
   "metadata": {},
   "outputs": [],
   "source": [
    "data5=np.zeros([num_unit,5])\n",
    "data5[:,0]=LL\n",
    "data5[:,1]=LH\n",
    "data5[:,2]=LD\n",
    "data5[:,3]=HH\n",
    "data5[:,4]=HD"
   ]
  },
  {
   "cell_type": "code",
   "execution_count": 14,
   "id": "numerous-disease",
   "metadata": {},
   "outputs": [],
   "source": [
    "y_pred5=loaded_model5.predict(data5)\n",
    "theta_vect5=y_pred5[:,0]*np.pi\n",
    "nx_vect5=y_pred6[:,1]*2 -1 \n",
    "ny_vect5=(y_pred6[:,2]*2 -1)*np.sqrt(1-nx_vect**2)\n",
    "\n",
    "nz_vect5=np.sqrt(abs(1-nx_vect**2-ny_vect**2))"
   ]
  },
  {
   "cell_type": "markdown",
   "id": "dynamic-concentration",
   "metadata": {},
   "source": [
    "# 4 inputs prediction"
   ]
  },
  {
   "cell_type": "code",
   "execution_count": 15,
   "id": "separated-shade",
   "metadata": {},
   "outputs": [],
   "source": [
    "json_file = open(r'./models/NN_qw_gen4opt.json', 'r') #path of NN 4 inputs json file\n",
    "loaded_model_json = json_file.read()\n",
    "json_file.close()\n",
    "loaded_model4 = tf.keras.models.model_from_json(loaded_model_json)\n",
    "loaded_model4.load_weights(r'./models/NN_qw_gen4opt.h5') #path of NN 4 inputs h5 file"
   ]
  },
  {
   "cell_type": "code",
   "execution_count": 16,
   "id": "statutory-europe",
   "metadata": {},
   "outputs": [],
   "source": [
    "data4=np.zeros([num_unit,4])\n",
    "data4[:,0]=LL\n",
    "data4[:,1]=LH\n",
    "data4[:,2]=HH\n",
    "data4[:,3]=HD"
   ]
  },
  {
   "cell_type": "code",
   "execution_count": 17,
   "id": "olive-physiology",
   "metadata": {},
   "outputs": [],
   "source": [
    "y_pred4=loaded_model4.predict(data4)\n",
    "theta_vect4=y_pred4[:,0]*np.pi\n",
    "nx_vect4=y_pred6[:,1]*2 -1 \n",
    "ny_vect4=(y_pred6[:,2]*2 -1)*np.sqrt(1-nx_vect**2)\n",
    "\n",
    "nz_vect4=np.sqrt(abs(1-nx_vect**2-ny_vect**2))"
   ]
  },
  {
   "cell_type": "markdown",
   "id": "mobile-arthur",
   "metadata": {},
   "source": [
    "# 3 inputs prediction"
   ]
  },
  {
   "cell_type": "code",
   "execution_count": 18,
   "id": "supported-empty",
   "metadata": {},
   "outputs": [],
   "source": [
    "json_file = open(r'./models/NN_qw_gen3opt.json', 'r') #path of NN 3 inputs json file\n",
    "loaded_model_json = json_file.read()\n",
    "json_file.close()\n",
    "loaded_model3 = tf.keras.models.model_from_json(loaded_model_json)\n",
    "loaded_model3.load_weights(r'./models/NN_qw_gen3opt.h5') #path of NN 3 inputs h5 file"
   ]
  },
  {
   "cell_type": "code",
   "execution_count": 19,
   "id": "defensive-poultry",
   "metadata": {},
   "outputs": [],
   "source": [
    "data3=np.zeros([num_unit,3])\n",
    "data3[:,0]=LL\n",
    "data3[:,1]=LH\n",
    "data3[:,2]=HD"
   ]
  },
  {
   "cell_type": "code",
   "execution_count": 20,
   "id": "worthy-specialist",
   "metadata": {},
   "outputs": [],
   "source": [
    "y_pred3=loaded_model3.predict(data3)\n",
    "theta_vect3=y_pred3[:,0]*np.pi\n",
    "nx_vect3=y_pred6[:,1]*2 -1 \n",
    "ny_vect3=(y_pred6[:,2]*2 -1)*np.sqrt(1-nx_vect**2)\n",
    "\n",
    "nz_vect3=np.sqrt(abs(1-nx_vect**2-ny_vect**2))"
   ]
  },
  {
   "cell_type": "markdown",
   "id": "quick-lewis",
   "metadata": {},
   "source": [
    "# Fidelity (if theoretical values are available)"
   ]
  },
  {
   "cell_type": "code",
   "execution_count": 21,
   "id": "afraid-pearl",
   "metadata": {},
   "outputs": [],
   "source": [
    "Fvals=np.zeros([4,num_unit])\n",
    "\n",
    "for i in range(num_unit):\n",
    "    netU=op_par(theta_vect3[i],nx_vect3[i],ny_vect3[i],nz_vect3[i])\n",
    "    thU=op_par(theta_th[i],nx_th[i],ny_th[i],nz_th[i])\n",
    "    Fvals[0,i]=fidelity(netU,thU)\n",
    "    \n",
    "for i in range(num_unit):\n",
    "    netU=op_par(theta_vect4[i],nx_vect4[i],ny_vect4[i],nz_vect4[i])\n",
    "    thU=op_par(theta_th[i],nx_th[i],ny_th[i],nz_th[i])\n",
    "    Fvals[1,i]=fidelity(netU,thU)\n",
    "    \n",
    "for i in range(num_unit):\n",
    "    netU=op_par(theta_vect5[i],nx_vect5[i],ny_vect5[i],nz_vect5[i])\n",
    "    thU=op_par(theta_th[i],nx_th[i],ny_th[i],nz_th[i])\n",
    "    Fvals[2,i]=fidelity(netU,thU)\n",
    "    \n",
    "for i in range(num_unit):\n",
    "    netU=op_par(theta_vect6[i],nx_vect6[i],ny_vect6[i],nz_vect6[i])\n",
    "    thU=op_par(theta_th[i],nx_th[i],ny_th[i],nz_th[i])\n",
    "    Fvals[3,i]=fidelity(netU,thU)"
   ]
  },
  {
   "cell_type": "code",
   "execution_count": 35,
   "id": "hearing-mention",
   "metadata": {},
   "outputs": [],
   "source": [
    "Fmean=np.array([np.mean(Fvals[0]),np.mean(Fvals[1]),np.mean(Fvals[2]),np.mean(Fvals[3])])\n",
    "Fstd=np.sqrt([np.var(Fvals[0]),np.var(Fvals[1]),np.var(Fvals[2]),np.var(Fvals[3])])"
   ]
  },
  {
   "cell_type": "code",
   "execution_count": 36,
   "id": "overall-telling",
   "metadata": {},
   "outputs": [
    {
     "data": {
      "text/plain": [
       "<matplotlib.collections.PathCollection at 0x1e6b9e8fb50>"
      ]
     },
     "execution_count": 36,
     "metadata": {},
     "output_type": "execute_result"
    },
    {
     "data": {
      "image/png": "[encoded data removed]",
      "text/plain": [
       "<Figure size 432x288 with 1 Axes>"
      ]
     },
     "metadata": {
      "needs_background": "light"
     },
     "output_type": "display_data"
    }
   ],
   "source": [
    "#infidelity plot (log)\n",
    "plt.scatter(np.arange(3,7,1),np.log10(1-Fmean))"
   ]
  },
  {
   "cell_type": "code",
   "execution_count": 39,
   "id": "attached-staff",
   "metadata": {},
   "outputs": [
    {
     "data": {
      "text/plain": [
       "(0.0, 0.2)"
      ]
     },
     "execution_count": 39,
     "metadata": {},
     "output_type": "execute_result"
    },
    {
     "data": {
      "image/png": "[encoded data removed]",
      "text/plain": [
       "<Figure size 432x288 with 1 Axes>"
      ]
     },
     "metadata": {
      "needs_background": "light"
     },
     "output_type": "display_data"
    }
   ],
   "source": [
    "#infidelity plot (linear with error bars)\n",
    "plt.scatter(np.arange(3,7,1),1-Fmean)\n",
    "plt.errorbar(np.arange(3,7,1),1-Fmean,Fstd)\n",
    "plt.ylim([0,0.2])"
   ]
  },
  {
   "cell_type": "code",
   "execution_count": 25,
   "id": "several-slovak",
   "metadata": {},
   "outputs": [
    {
     "data": {
      "text/plain": [
       "[<matplotlib.lines.Line2D at 0x1e6b9d7e6a0>]"
      ]
     },
     "execution_count": 25,
     "metadata": {},
     "output_type": "execute_result"
    },
    {
     "data": {
      "image/png": "[encoded data removed]",
      "text/plain": [
       "<Figure size 432x288 with 1 Axes>"
      ]
     },
     "metadata": {
      "needs_background": "light"
     },
     "output_type": "display_data"
    }
   ],
   "source": [
    "plt.plot(np.log10(1-Fvals[0]))\n",
    "plt.plot(np.log10(1-Fvals[1]))\n",
    "plt.plot(np.log10(1-Fvals[2]))\n",
    "plt.plot(np.log10(1-Fvals[3]))"
   ]
  },
  {
   "cell_type": "code",
   "execution_count": null,
   "id": "processed-bunny",
   "metadata": {},
   "outputs": [],
   "source": []
  }
 ],
 "metadata": {
  "kernelspec": {
   "display_name": "Python 3",
   "language": "python",
   "name": "python3"
  },
  "language_info": {
   "codemirror_mode": {
    "name": "ipython",
    "version": 3
   },
   "file_extension": ".py",
   "mimetype": "text/x-python",
   "name": "python",
   "nbconvert_exporter": "python",
   "pygments_lexer": "ipython3",
   "version": "3.8.5"
  }
 },
 "nbformat": 4,
 "nbformat_minor": 5
}
