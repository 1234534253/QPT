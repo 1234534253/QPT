{
 "cells": [
  {
   "cell_type": "markdown",
   "id": "assigned-melbourne",
   "metadata": {},
   "source": [
    "# Map reconstruction with 6 inputs per pixel"
   ]
  },
  {
   "cell_type": "code",
   "execution_count": null,
   "id": "b1b8c49c",
   "metadata": {},
   "outputs": [],
   "source": [
    "#libraries\n",
    "import matplotlib.pyplot as plt\n",
    "import numpy as np\n",
    "\n",
    "from tensorflow.keras.models import Sequential\n",
    "from tensorflow.keras import Sequential\n",
    "from tensorflow.keras.layers import Dense\n",
    "from tensorflow.keras.layers import GaussianDropout\n",
    "from tensorflow.keras import optimizers\n",
    "import tensorflow as tf\n",
    "\n",
    "import os"
   ]
  },
  {
   "cell_type": "code",
   "execution_count": null,
   "id": "2d74dfdb",
   "metadata": {},
   "outputs": [],
   "source": [
    "# load json and create model\n",
    "\n",
    "json_file = open(r'./NN_qw_gen6opt.json', 'r')\n",
    "\n",
    "loaded_model_json = json_file.read()\n",
    "\n",
    "json_file.close()\n",
    "\n",
    "loaded_model = tf.keras.models.model_from_json(loaded_model_json)\n",
    "\n",
    "# load weights into new model\n",
    "\n",
    "loaded_model.load_weights(r'./NN_qw_gen6opt.h5')\n",
    "\n",
    "print(\"Loaded model from disk\")"
   ]
  },
  {
   "cell_type": "code",
   "execution_count": null,
   "id": "f38dad6a",
   "metadata": {},
   "outputs": [],
   "source": [
    "#select the number of pixels\n",
    "num_pix=73 #the map is num_pix*num_pix"
   ]
  },
  {
   "cell_type": "code",
   "execution_count": null,
   "id": "34bb30ec",
   "metadata": {},
   "outputs": [],
   "source": [
    "#select the folder in which the data is stored\n",
    "data_folder='\\\\experimental_data_73(6)\\\\2'\n",
    "#select the folder with the theoretical values (if needed)\n",
    "th_folder='\\\\experimental_data_73(6)\\\\2\\\\values'"
   ]
  },
  {
   "cell_type": "markdown",
   "id": "apparent-interest",
   "metadata": {},
   "source": [
    "# Theoretical values (comment if unnecessary)"
   ]
  },
  {
   "cell_type": "code",
   "execution_count": null,
   "id": "6e507709",
   "metadata": {},
   "outputs": [],
   "source": [
    "file_names=[]\n",
    "for file in os.listdir(os.getcwd()+th_folder):\n",
    "    file_names+=[file]"
   ]
  },
  {
   "cell_type": "code",
   "execution_count": null,
   "id": "090bacb5",
   "metadata": {},
   "outputs": [],
   "source": [
    "th_mat=np.zeros([num_pix,num_pix,4])\n",
    "\n",
    "theta_th_mat=np.zeros([num_pix,num_pix])\n",
    "nx_th_mat=np.zeros([num_pix,num_pix])\n",
    "ny_th_mat=np.zeros([num_pix,num_pix])\n",
    "nz_th_mat=np.zeros([num_pix,num_pix])\n",
    "\n",
    "k=0\n",
    "for Namefile in file_names:\n",
    "    file=open(os.getcwd()+th_folder+'\\\\'+Namefile)\n",
    "    \n",
    "    file_row=[]\n",
    "    \n",
    "    \n",
    "    for line in file:\n",
    "        file_row += [line.split()]\n",
    "    for i in range(num_pix):\n",
    "        for j in range(num_pix):\n",
    "            th_mat[i,j,k]=float(file_row[i][j])\n",
    "    k+=1\n",
    "    file.close()\n",
    "    \n",
    "theta_th_mat=th_mat[:,:,0]\n",
    "nx_th_mat=th_mat[:,:,1]\n",
    "ny_th_mat=th_mat[:,:,2]\n",
    "nz_th_mat=th_mat[:,:,3]"
   ]
  },
  {
   "cell_type": "markdown",
   "id": "stable-medicare",
   "metadata": {},
   "source": [
    "# Experimental data"
   ]
  },
  {
   "cell_type": "code",
   "execution_count": null,
   "id": "62b7fecb",
   "metadata": {},
   "outputs": [],
   "source": [
    "#NB: the order for the data must be LL LH LD HL HH HD\n",
    "file_names2=[]\n",
    "for file in os.listdir(os.getcwd()+data_folder):\n",
    "    file_names2+=[file]"
   ]
  },
  {
   "cell_type": "code",
   "execution_count": null,
   "id": "cloudy-irrigation",
   "metadata": {},
   "outputs": [],
   "source": [
    "mat_data=np.zeros([num_pix,num_pix,6])\n",
    "k=0\n",
    "for Namefile in file_names2[:-1]: #select only the data that are needed in the right order!\n",
    "    file=open(os.getcwd()+data_folder +'\\\\'+ Namefile)\n",
    "    \n",
    "    file_row=[]\n",
    "    \n",
    "    \n",
    "    for line in file:\n",
    "        file_row += [line.split()]\n",
    "    for i in range(num_pix):\n",
    "        for j in range(num_pix):\n",
    "            mat_data[i,j,k]=float(file_row[i][j])\n",
    "    k+=1\n",
    "    file.close()"
   ]
  },
  {
   "cell_type": "code",
   "execution_count": null,
   "id": "3a0b3c06",
   "metadata": {},
   "outputs": [],
   "source": [
    "flat_input=mat_data.reshape((num_pix*num_pix,6))"
   ]
  },
  {
   "cell_type": "markdown",
   "id": "naughty-david",
   "metadata": {},
   "source": [
    "# NN prediction"
   ]
  },
  {
   "cell_type": "code",
   "execution_count": null,
   "id": "815ce34a",
   "metadata": {},
   "outputs": [],
   "source": [
    "y_pred=loaded_model.predict(flat_input)\n",
    "thetavect=y_pred[:,0]*np.pi\n",
    "nx_vect=y_pred[:,1]*2 -1 \n",
    "ny_vect=(y_pred[:,2]*2 -1)*np.sqrt(1-nx_vect**2)\n",
    "\n",
    "nz_vect=np.sqrt(abs(1-nx_vect**2-ny_vect**2))"
   ]
  },
  {
   "cell_type": "markdown",
   "id": "aggressive-article",
   "metadata": {},
   "source": [
    "# Continuity and error correction"
   ]
  },
  {
   "cell_type": "code",
   "execution_count": null,
   "id": "45d03643",
   "metadata": {},
   "outputs": [],
   "source": [
    "#preliminary: continuity of the parameters between pixels 1 and 2\n",
    "\n",
    "diff1=np.amax(np.array([abs(thetavect[1]-thetavect[0]),abs(nx_vect[1]-nx_vect[0]),abs(ny_vect[1]-ny_vect[0])]))\n",
    "alt_vect=np.zeros([4])\n",
    "alt_vect[0]=np.pi-thetavect[1]\n",
    "alt_vect[1]=-nx_vect[1]\n",
    "alt_vect[2]=-ny_vect[1]\n",
    "alt_vect[3]=-nz_vect[1]\n",
    "diff_alt_1=np.amax(np.array([abs(alt_vect[0]-thetavect[0]),abs(alt_vect[1]-nx_vect[0]),abs(alt_vect[2]-ny_vect[0])]))\n",
    "\n",
    "if diff_alt_1<diff1:\n",
    "    thetavect[1]=alt_vect[0]\n",
    "    nx_vect[1]=alt_vect[1]\n",
    "    ny_vect[1]=alt_vect[2]\n",
    "    nz_vect[1]=alt_vect[3]"
   ]
  },
  {
   "cell_type": "code",
   "execution_count": null,
   "id": "67824f1c",
   "metadata": {},
   "outputs": [],
   "source": [
    "#imposing continuity of the parameters to choose between U and -U\n",
    "\n",
    "for i in range(2,num_pix**2):\n",
    "    diff1=np.amax(np.array([abs(thetavect[i]-thetavect[i-1]),abs(nx_vect[i]-nx_vect[i-1]),abs(ny_vect[i]-ny_vect[i-1])]))\n",
    "    diff2=np.amax(np.array([abs(thetavect[i]-thetavect[i-2]),abs(nx_vect[i]-nx_vect[i-2]),abs(ny_vect[i]-ny_vect[i-2])]))\n",
    "    alt_vect=np.zeros([4])\n",
    "    alt_vect[0]=np.pi-thetavect[i]\n",
    "    alt_vect[1]=-nx_vect[i]\n",
    "    alt_vect[2]=-ny_vect[i]\n",
    "    alt_vect[3]=-nz_vect[i]\n",
    "    diff_alt_1=np.amax(np.array([abs(alt_vect[0]-thetavect[i-1]),abs(alt_vect[1]-nx_vect[i-1]),abs(alt_vect[2]-ny_vect[i-1])]))\n",
    "    diff_alt_2=np.amax(np.array([abs(alt_vect[0]-thetavect[i-2]),abs(alt_vect[1]-nx_vect[i-2]),abs(alt_vect[2]-ny_vect[i-2])]))\n",
    "    if min(diff_alt_1,diff_alt_2)<min(diff1,diff2):\n",
    "        thetavect[i]=alt_vect[0]\n",
    "        nx_vect[i]=alt_vect[1]\n",
    "        ny_vect[i]=alt_vect[2]\n",
    "        nz_vect[i]=alt_vect[3]"
   ]
  },
  {
   "cell_type": "code",
   "execution_count": null,
   "id": "b9a6de40",
   "metadata": {},
   "outputs": [],
   "source": [
    "mat_theta=thetavect.reshape((num_pix,num_pix))\n",
    "mat_nx=nx_vect.reshape((num_pix,num_pix))\n",
    "mat_ny=ny_vect.reshape((num_pix,num_pix))\n",
    "mat_nz=nz_vect.reshape((num_pix,num_pix))"
   ]
  },
  {
   "cell_type": "code",
   "execution_count": null,
   "id": "166c510e",
   "metadata": {},
   "outputs": [],
   "source": [
    "#minimum fidelity between neighbouring pixels for the 1st run\n",
    "tol=0.9"
   ]
  },
  {
   "cell_type": "code",
   "execution_count": null,
   "id": "92f9d269",
   "metadata": {},
   "outputs": [],
   "source": [
    "def fidelity(mat1,mat2):\n",
    "    prod=np.trace(np.dot(np.conjugate(mat1.T),mat2))\n",
    "    \n",
    "    return 0.5*np.abs(prod)\n",
    "\n",
    "def op_par(En,nx,ny,nz):\n",
    "    mat=np.zeros([2,2],dtype=complex)\n",
    "    \n",
    "    mat[0,0]=np.cos(En) - 1j*np.sin(En)*nz\n",
    "    mat[0,1]=-1j*np.sin(En)*(nx - 1j*ny)\n",
    "    mat[1,0]=-1j*np.sin(En)*(nx + 1j*ny)\n",
    "    mat[1,1]=np.cos(En) + 1j*np.sin(En)*nz\n",
    "    \n",
    "    return mat"
   ]
  },
  {
   "cell_type": "code",
   "execution_count": null,
   "id": "3d3fe81d",
   "metadata": {},
   "outputs": [],
   "source": [
    "def close_fid(i,j):\n",
    "    \n",
    "    fids=np.zeros([8])\n",
    "    \n",
    "    fids[0]=fidelity(op_par(mat_theta[i%num_pix,j%num_pix],mat_nx[i%num_pix,j%num_pix],mat_ny[i%num_pix,j%num_pix],mat_nz[i%num_pix,j%num_pix]),op_par(mat_theta[(i-1)%num_pix,j%num_pix],mat_nx[(i-1)%num_pix,j%num_pix],mat_ny[(i-1)%num_pix,j%num_pix],mat_nz[(i-1)%num_pix,j%num_pix]))\n",
    "    fids[1]=fidelity(op_par(mat_theta[i%num_pix,j%num_pix],mat_nx[i%num_pix,j%num_pix],mat_ny[i%num_pix,j%num_pix],mat_nz[i%num_pix,j%num_pix]),op_par(mat_theta[(i-1)%num_pix,(j-1)%num_pix],mat_nx[(i-1)%num_pix,(j-1)%num_pix],mat_ny[(i-1)%num_pix,(j-1)%num_pix],mat_nz[(i-1)%num_pix,(j-1)%num_pix]))\n",
    "    fids[2]=fidelity(op_par(mat_theta[i%num_pix,j%num_pix],mat_nx[i%num_pix,j%num_pix],mat_ny[i%num_pix,j%num_pix],mat_nz[i%num_pix,j%num_pix]),op_par(mat_theta[i%num_pix,(j-1)%num_pix],mat_nx[i%num_pix,(j-1)%num_pix],mat_ny[i%num_pix,(j-1)%num_pix],mat_nz[i%num_pix,(j-1)%num_pix]))\n",
    "    fids[3]=fidelity(op_par(mat_theta[i%num_pix,j%num_pix],mat_nx[i%num_pix,j%num_pix],mat_ny[i%num_pix,j%num_pix],mat_nz[i%num_pix,j%num_pix]),op_par(mat_theta[(i+1)%num_pix,(j-1)%num_pix],mat_nx[(i+1)%num_pix,(j-1)%num_pix],mat_ny[(i+1)%num_pix,(j-1)%num_pix],mat_nz[(i+1)%num_pix,(j-1)%num_pix]))\n",
    "    fids[4]=fidelity(op_par(mat_theta[i%num_pix,j%num_pix],mat_nx[i%num_pix,j%num_pix],mat_ny[i%num_pix,j%num_pix],mat_nz[i%num_pix,j%num_pix]),op_par(mat_theta[(i+1)%num_pix,j%num_pix],mat_nx[(i+1)%num_pix,j%num_pix],mat_ny[(i+1)%num_pix,j%num_pix],mat_nz[(i+1)%num_pix,j%num_pix]))\n",
    "    fids[5]=fidelity(op_par(mat_theta[i%num_pix,j%num_pix],mat_nx[i%num_pix,j%num_pix],mat_ny[i%num_pix,j%num_pix],mat_nz[i%num_pix,j%num_pix]),op_par(mat_theta[(i+1)%num_pix,(j+1)%num_pix],mat_nx[(i+1)%num_pix,(j+1)%num_pix],mat_ny[(i+1)%num_pix,(j+1)%num_pix],mat_nz[(i+1)%num_pix,(j+1)%num_pix]))\n",
    "    fids[6]=fidelity(op_par(mat_theta[i%num_pix,j%num_pix],mat_nx[i%num_pix,j%num_pix],mat_ny[i%num_pix,j%num_pix],mat_nz[i%num_pix,j%num_pix]),op_par(mat_theta[i%num_pix,(j+1)%num_pix],mat_nx[i%num_pix,(j+1)%num_pix],mat_ny[i%num_pix,(j+1)%num_pix],mat_nz[i%num_pix,(j+1)%num_pix]))\n",
    "    fids[7]=fidelity(op_par(mat_theta[i%num_pix,j%num_pix],mat_nx[i%num_pix,j%num_pix],mat_ny[i%num_pix,j%num_pix],mat_nz[i%num_pix,j%num_pix]),op_par(mat_theta[(i-1)%num_pix,(j+1)%num_pix],mat_nx[(i-1)%num_pix,(j+1)%num_pix],mat_ny[(i-1)%num_pix,(j+1)%num_pix],mat_nz[(i-1)%num_pix,(j+1)%num_pix]))\n",
    "    \n",
    "    fid_val=max(fids)\n",
    "    \n",
    "    return fid_val"
   ]
  },
  {
   "cell_type": "code",
   "execution_count": null,
   "id": "dc94a96e",
   "metadata": {},
   "outputs": [],
   "source": [
    "def inter_NN(i,j,mat_par):\n",
    "    \n",
    "    pars=np.zeros([8])\n",
    "    trust=np.zeros([8])\n",
    "    \n",
    "    trust[0]=(close_fid(i-1,j)>tol)\n",
    "    trust[1]=(close_fid(i-1,j-1)>tol)\n",
    "    trust[2]=(close_fid(i,j-1)>tol)\n",
    "    trust[3]=(close_fid(i+1,j-1)>tol)\n",
    "    trust[4]=(close_fid(i+1,j)>tol)\n",
    "    trust[5]=(close_fid(i+1,j+1)>tol)\n",
    "    trust[6]=(close_fid(i,j+1)>tol)\n",
    "    trust[7]=(close_fid(i-1,j+1)>tol)\n",
    "    \n",
    "    pars[0]=mat_par[(i-1)%num_pix,j]\n",
    "    pars[1]=mat_par[(i-1)%num_pix,(j-1)%num_pix]\n",
    "    pars[2]=mat_par[i,(j-1)%num_pix]\n",
    "    pars[3]=mat_par[(i+1)%num_pix,(j-1)%num_pix]\n",
    "    pars[4]=mat_par[(i+1)%num_pix,j]\n",
    "    pars[5]=mat_par[(i+1)%num_pix,(j+1)%num_pix]\n",
    "    pars[6]=mat_par[i,(j+1)%num_pix]\n",
    "    pars[7]=mat_par[(i-1)%num_pix,(j+1)%num_pix]\n",
    "    \n",
    "    mean_par=sum(pars*trust)/sum(trust)\n",
    "    \n",
    "    return mean_par"
   ]
  },
  {
   "cell_type": "code",
   "execution_count": null,
   "id": "9e87fc50",
   "metadata": {},
   "outputs": [],
   "source": [
    "#correcting wrong pixels by interpolating between their neighbours\n",
    "\n",
    "for i in range(num_pix):\n",
    "    for j in range(num_pix):\n",
    "    \n",
    "        if close_fid(i,j)<tol:\n",
    "            mat_theta[i,j]=inter_NN(i,j,mat_theta)\n",
    "            mat_nx[i,j]=inter_NN(i,j,mat_nx)\n",
    "            mat_ny[i,j]=inter_NN(i,j,mat_ny)\n",
    "            mat_nz[i,j]=inter_NN(i,j,mat_nz)\n",
    "            \n",
    "            norm=np.sqrt(mat_nx[i,j]**2 + mat_ny[i,j]**2 + mat_nz[i,j]**2)\n",
    "            \n",
    "            mat_nx[i,j]=mat_nx[i,j]/norm\n",
    "            mat_ny[i,j]=mat_ny[i,j]/norm\n",
    "            mat_nz[i,j]=mat_nz[i,j]/norm"
   ]
  },
  {
   "cell_type": "code",
   "execution_count": null,
   "id": "3c58e751",
   "metadata": {},
   "outputs": [],
   "source": [
    "alt_mat_theta=np.ones([num_pix,num_pix])*np.pi - mat_theta\n",
    "alt_mat_nx=-mat_nx\n",
    "alt_mat_ny=-mat_ny\n",
    "alt_mat_nz=-mat_nz"
   ]
  },
  {
   "cell_type": "code",
   "execution_count": null,
   "id": "c36c4fe9",
   "metadata": {},
   "outputs": [],
   "source": [
    "def max_par_jump(i,j,k,h):\n",
    "    \n",
    "    return np.amax(np.array([abs(mat_theta[i,j]-mat_theta[i-1,j-1])/np.pi,abs(mat_nx[i,j]-mat_nx[i-1,j-1])/2,abs(mat_ny[i,j]-mat_ny[i-1,j-1])/2]))"
   ]
  },
  {
   "cell_type": "code",
   "execution_count": null,
   "id": "084b6467",
   "metadata": {},
   "outputs": [],
   "source": [
    "def alt_max_par_jump(i,j,k,h):\n",
    "    \n",
    "    return np.amax(np.array([abs(alt_mat_theta[i,j]-mat_theta[i-1,j-1])/np.pi,abs(alt_mat_nx[i,j]-mat_nx[i-1,j-1])/2,abs(alt_mat_ny[i,j]-mat_ny[i-1,j-1])/2]))"
   ]
  },
  {
   "cell_type": "code",
   "execution_count": null,
   "id": "18adf8d6",
   "metadata": {},
   "outputs": [],
   "source": [
    "def close_jump(i,j):\n",
    "    \n",
    "    jumps=np.zeros([8])\n",
    "    \n",
    "    jumps[0]=max_par_jump(i,j,(i-1)%num_pix,j)\n",
    "    jumps[1]=max_par_jump(i,j,(i-1)%num_pix,(j-1)%num_pix)\n",
    "    jumps[2]=max_par_jump(i,j,i,(j-1)%num_pix)\n",
    "    jumps[3]=max_par_jump(i,j,(i+1)%num_pix,(j-1)%num_pix)\n",
    "    jumps[4]=max_par_jump(i,j,(i+1)%num_pix,j)\n",
    "    jumps[5]=max_par_jump(i,j,(i+1)%num_pix,(j+1)%num_pix)\n",
    "    jumps[6]=max_par_jump(i,j,i,(j+1)%num_pix)\n",
    "    jumps[7]=max_par_jump(i,j,(i-1)%num_pix,(j+1)%num_pix)\n",
    "    \n",
    "    jump_val=min(jumps)\n",
    "    \n",
    "    return jump_val"
   ]
  },
  {
   "cell_type": "code",
   "execution_count": null,
   "id": "081c5758",
   "metadata": {},
   "outputs": [],
   "source": [
    "def alt_close_jump(i,j):\n",
    "    \n",
    "    jumps=np.zeros([8])\n",
    "    \n",
    "    jumps[0]=alt_max_par_jump(i,j,(i-1)%num_pix,j)\n",
    "    jumps[1]=alt_max_par_jump(i,j,(i-1)%num_pix,(j-1)%num_pix)\n",
    "    jumps[2]=alt_max_par_jump(i,j,i,(j-1)%num_pix)\n",
    "    jumps[3]=alt_max_par_jump(i,j,(i+1)%num_pix,(j-1)%num_pix)\n",
    "    jumps[4]=alt_max_par_jump(i,j,(i+1)%num_pix,j)\n",
    "    jumps[5]=alt_max_par_jump(i,j,(i+1)%num_pix,(j+1)%num_pix)\n",
    "    jumps[6]=alt_max_par_jump(i,j,i,(j+1)%num_pix)\n",
    "    jumps[7]=alt_max_par_jump(i,j,(i-1)%num_pix,(j+1)%num_pix)\n",
    "    \n",
    "    jump_val=min(jumps)\n",
    "    \n",
    "    return jump_val"
   ]
  },
  {
   "cell_type": "code",
   "execution_count": null,
   "id": "2f0ac455",
   "metadata": {},
   "outputs": [],
   "source": [
    "#NN continuity correction (now in 2D)\n",
    "\n",
    "for i in range(num_pix):\n",
    "    for j in range(num_pix):\n",
    "    \n",
    "        if alt_close_jump(i,j)<close_jump(i,j):\n",
    "            mat_theta[i,j]=alt_mat_theta[i,j]\n",
    "            mat_nx[i,j]=alt_mat_nx[i,j]\n",
    "            mat_ny[i,j]=alt_mat_ny[i,j]\n",
    "            mat_nz[i,j]=alt_mat_nz[i,j]\n",
    "            \n",
    "            norm=np.sqrt(mat_nx[i,j]**2 + mat_ny[i,j]**2 + mat_nz[i,j]**2)\n",
    "            \n",
    "            mat_nx[i,j]=mat_nx[i,j]/norm\n",
    "            mat_ny[i,j]=mat_ny[i,j]/norm\n",
    "            mat_nz[i,j]=mat_nz[i,j]/norm"
   ]
  },
  {
   "cell_type": "code",
   "execution_count": null,
   "id": "69466d1b",
   "metadata": {},
   "outputs": [],
   "source": [
    "thetavect2=mat_theta.reshape((num_pix*num_pix))\n",
    "nx_vect2=mat_nx.reshape((num_pix*num_pix))\n",
    "ny_vect2=mat_ny.reshape((num_pix*num_pix))\n",
    "nz_vect2=mat_nz.reshape((num_pix*num_pix))"
   ]
  },
  {
   "cell_type": "code",
   "execution_count": null,
   "id": "223f8145",
   "metadata": {},
   "outputs": [],
   "source": [
    "#imposing continuity of the parameters to choose between U and -U (again)\n",
    "\n",
    "for i in range(2,num_pix**2):\n",
    "    diff1=np.amax(np.array([abs(thetavect2[i]-thetavect2[i-1]),abs(nx_vect2[i]-nx_vect2[i-1]),abs(ny_vect2[i]-ny_vect2[i-1])]))\n",
    "    diff2=np.amax(np.array([abs(thetavect2[i]-thetavect2[i-2]),abs(nx_vect2[i]-nx_vect2[i-2]),abs(ny_vect2[i]-ny_vect2[i-2])]))\n",
    "    alt_vect2=np.zeros([4])\n",
    "    alt_vect2[0]=np.pi-thetavect2[i]\n",
    "    alt_vect2[1]=-nx_vect2[i]\n",
    "    alt_vect2[2]=-ny_vect2[i]\n",
    "    alt_vect2[3]=-nz_vect2[i]\n",
    "    diff_alt_1=np.amax(np.array([abs(alt_vect2[0]-thetavect2[i-1]),abs(alt_vect2[1]-nx_vect2[i-1]),abs(alt_vect2[2]-ny_vect2[i-1])]))\n",
    "    diff_alt_2=np.amax(np.array([abs(alt_vect2[0]-thetavect2[i-2]),abs(alt_vect2[1]-nx_vect2[i-2]),abs(alt_vect2[2]-ny_vect2[i-2])]))\n",
    "    if min(diff_alt_1,diff_alt_2)<min(diff1,diff2):\n",
    "        thetavect2[i]=alt_vect2[0]\n",
    "        nx_vect2[i]=alt_vect2[1]\n",
    "        ny_vect2[i]=alt_vect2[2]\n",
    "        nz_vect2[i]=alt_vect2[3]"
   ]
  },
  {
   "cell_type": "code",
   "execution_count": null,
   "id": "51e64fe2",
   "metadata": {},
   "outputs": [],
   "source": [
    "mat_theta=thetavect2.reshape((num_pix,num_pix))\n",
    "mat_nx=nx_vect2.reshape((num_pix,num_pix))\n",
    "mat_ny=ny_vect2.reshape((num_pix,num_pix))\n",
    "mat_nz=nz_vect2.reshape((num_pix,num_pix))"
   ]
  },
  {
   "cell_type": "code",
   "execution_count": null,
   "id": "a9c0bf47",
   "metadata": {},
   "outputs": [],
   "source": [
    "#minimum fidelity between neighbouring pixels for the 2nd run\n",
    "tol2=0.98"
   ]
  },
  {
   "cell_type": "code",
   "execution_count": null,
   "id": "137ecc4e",
   "metadata": {},
   "outputs": [],
   "source": [
    "#correcting wrong pixels by interpolating between their neighbours (again)\n",
    "\n",
    "for i in range(num_pix):\n",
    "    for j in range(num_pix):\n",
    "    \n",
    "        if close_fid(i,j)<tol2:\n",
    "            mat_theta[i,j]=inter_NN(i,j,mat_theta)\n",
    "            mat_nx[i,j]=inter_NN(i,j,mat_nx)\n",
    "            mat_ny[i,j]=inter_NN(i,j,mat_ny)\n",
    "            mat_nz[i,j]=inter_NN(i,j,mat_nz)"
   ]
  },
  {
   "cell_type": "code",
   "execution_count": null,
   "id": "0283c130",
   "metadata": {},
   "outputs": [],
   "source": [
    "alt_mat_theta=np.ones([num_pix,num_pix])*np.pi - mat_theta\n",
    "alt_mat_nx=-mat_nx\n",
    "alt_mat_ny=-mat_ny\n",
    "alt_mat_nz=-mat_nz"
   ]
  },
  {
   "cell_type": "code",
   "execution_count": null,
   "id": "1f63290f",
   "metadata": {},
   "outputs": [],
   "source": [
    "for j in range(num_pix):\n",
    "    for i in range(num_pix):\n",
    "    \n",
    "        if alt_close_jump(-i,-j)<close_jump(-i,-j):\n",
    "            mat_theta[-i,-j]=alt_mat_theta[-i,-j]\n",
    "            mat_nx[-i,-j]=alt_mat_nx[-i,-j]\n",
    "            mat_ny[-i,-j]=alt_mat_ny[-i,-j]\n",
    "            mat_nz[-i,-j]=alt_mat_nz[-i,-j]"
   ]
  },
  {
   "cell_type": "code",
   "execution_count": null,
   "id": "4a95cc55",
   "metadata": {},
   "outputs": [],
   "source": [
    "#if total inversion is needed\n",
    "\n",
    "mat_theta=np.ones([num_pix,num_pix])*np.pi - mat_theta\n",
    "mat_nx=-mat_nx\n",
    "mat_ny=-mat_ny\n",
    "mat_nz=-mat_nz"
   ]
  },
  {
   "cell_type": "markdown",
   "id": "3e3707fd",
   "metadata": {},
   "source": [
    "Plot comparison"
   ]
  },
  {
   "cell_type": "code",
   "execution_count": null,
   "id": "recreational-reception",
   "metadata": {},
   "outputs": [],
   "source": [
    "xvals=np.arange(0,num_pix)\n",
    "yvals=np.arange(0,num_pix)\n",
    "y,x=np.meshgrid(xvals,yvals)"
   ]
  },
  {
   "cell_type": "code",
   "execution_count": null,
   "id": "0cc6f232",
   "metadata": {},
   "outputs": [],
   "source": [
    "plt.figure(1)\n",
    "fig, ax = plt.subplots(figsize=(12, 8))\n",
    "\n",
    "c = ax.pcolormesh(x, y, mat_theta[:-1, :-1], cmap='RdBu', vmin=mat_theta.min(), vmax=mat_theta.max())\n",
    "ax.set_title('Theta plot (net)')\n",
    "# set the limits of the plot to the limits of the data\n",
    "ax.axis([x.min(), x.max(), y.min(), y.max()])\n",
    "plt.xlabel('x',fontsize=18)\n",
    "plt.ylabel('y',fontsize=18)\n",
    "cbar=fig.colorbar(c, ax=ax)\n",
    "cbar.set_label('Theta',fontsize=18)\n",
    "\n",
    "plt.figure(2)\n",
    "\n",
    "fig, ax = plt.subplots(figsize=(12, 8))\n",
    "\n",
    "c = ax.pcolormesh(x, y, mat_nx[:-1, :-1], cmap='RdBu', vmin=mat_nx.min(), vmax=mat_nx.max())\n",
    "ax.set_title('nx plot (net)')\n",
    "# set the limits of the plot to the limits of the data\n",
    "ax.axis([x.min(), x.max(), y.min(), y.max()])\n",
    "plt.xlabel('x',fontsize=18)\n",
    "plt.ylabel('y',fontsize=18)\n",
    "cbar=fig.colorbar(c, ax=ax)\n",
    "cbar.set_label('nx',fontsize=18)\n",
    "\n",
    "plt.figure(3)\n",
    "fig, ax = plt.subplots(figsize=(12, 8))\n",
    "\n",
    "c = ax.pcolormesh(x, y, mat_ny[:-1, :-1], cmap='RdBu', vmin=mat_ny.min(), vmax=mat_ny.max())\n",
    "ax.set_title('ny plot (net)')\n",
    "# set the limits of the plot to the limits of the data\n",
    "ax.axis([x.min(), x.max(), y.min(), y.max()])\n",
    "plt.xlabel('x',fontsize=18)\n",
    "plt.ylabel('y',fontsize=18)\n",
    "cbar=fig.colorbar(c, ax=ax)\n",
    "cbar.set_label('ny',fontsize=18)\n",
    "\n",
    "plt.figure(4)\n",
    "fig, ax = plt.subplots(figsize=(12, 8))\n",
    "\n",
    "c = ax.pcolormesh(x, y, mat_nz[:-1, :-1], cmap='RdBu', vmin=mat_nz.min(), vmax=mat_nz.max())\n",
    "ax.set_title('nz plot (net)')\n",
    "# set the limits of the plot to the limits of the data\n",
    "ax.axis([x.min(), x.max(), y.min(), y.max()])\n",
    "plt.xlabel('x',fontsize=18)\n",
    "plt.ylabel('y',fontsize=18)\n",
    "cbar=fig.colorbar(c, ax=ax)\n",
    "cbar.set_label('nz',fontsize=18)\n",
    "\n",
    "plt.show()"
   ]
  },
  {
   "cell_type": "markdown",
   "id": "8335b5d3",
   "metadata": {},
   "source": [
    "# Fidelity (if theoretical values are available)"
   ]
  },
  {
   "cell_type": "code",
   "execution_count": null,
   "id": "c2f231cd",
   "metadata": {},
   "outputs": [],
   "source": [
    "#the fidelity doesn't care if it's U or -U\n",
    "Fvals=np.zeros([num_pix,num_pix])\n",
    "for i in range(num_pix):\n",
    "    for j in range(num_pix):\n",
    "        netU=op_par(mat_theta[i,j],mat_nx[i,j],mat_ny[i,j],mat_nz[i,j])\n",
    "        thU=op_par(theta_th_mat[i,j],nx_th_mat[i,j],ny_th_mat[i,j],nz_th_mat[i,j])\n",
    "        Fvals[i,j]=fidelity(netU,thU)"
   ]
  },
  {
   "cell_type": "code",
   "execution_count": null,
   "id": "63933e1d",
   "metadata": {},
   "outputs": [],
   "source": [
    "fig, ax = plt.subplots(figsize=(12, 8))\n",
    "\n",
    "c = ax.pcolormesh(x, y, Fvals[:-1, :-1], cmap='RdBu', vmin=Fvals.min(), vmax=Fvals.max())\n",
    "ax.set_title('Fidelity plot')\n",
    "# set the limits of the plot to the limits of the data\n",
    "ax.axis([x.min(), x.max(), y.min(), y.max()])\n",
    "plt.xlabel('x',fontsize=18)\n",
    "plt.ylabel('y',fontsize=18)\n",
    "cbar=fig.colorbar(c, ax=ax)\n",
    "cbar.set_label('F',fontsize=18)\n",
    "\n",
    "plt.show()"
   ]
  },
  {
   "cell_type": "code",
   "execution_count": null,
   "id": "c0f20267",
   "metadata": {},
   "outputs": [],
   "source": [
    "meanF=np.mean(Fvals)\n",
    "meanF"
   ]
  }
 ],
 "metadata": {
  "kernelspec": {
   "display_name": "Python 3",
   "language": "python",
   "name": "python3"
  },
  "language_info": {
   "codemirror_mode": {
    "name": "ipython",
    "version": 3
   },
   "file_extension": ".py",
   "mimetype": "text/x-python",
   "name": "python",
   "nbconvert_exporter": "python",
   "pygments_lexer": "ipython3",
   "version": "3.8.5"
  }
 },
 "nbformat": 4,
 "nbformat_minor": 5
}
