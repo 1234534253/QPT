{
 "cells": [
  {
   "cell_type": "markdown",
   "id": "195580c5",
   "metadata": {},
   "source": [
    "# Quantum Process Tomography via Genetic Algorithms\n",
    "\n",
    "## Single SU(2) Transformations\n",
    "___\n",
    "\n",
    "This notebook performs the process tomography for the numerical experiments proposed in our paper 'Retrieving complex polarization transformations via optimized quantum process tomography'.\n",
    " \n",
    "\n",
    "   The notebook is organized as follows: \n",
    "\n",
    "   1. Importing the synthetic data\n",
    "   2. Setting the hyper-parameters of the Genetic Algorithm\n",
    "   3. Performing the genetic recostruction with 6 measurements\n",
    "   4. Performing the genetic recostruction with 5 measurements\n",
    "   5. Performing the genetic recostruction with 4 measurements\n",
    "   6. Performing the genetic recostruction with 3 measurements\n",
    "\n",
    "\n",
    "________"
   ]
  },
  {
   "cell_type": "markdown",
   "id": "ad072cc1",
   "metadata": {},
   "source": [
    "First, the required libraries are imported:"
   ]
  },
  {
   "cell_type": "code",
   "execution_count": null,
   "id": "697b57e8",
   "metadata": {},
   "outputs": [],
   "source": [
    "from deap import base\n",
    "from deap import creator\n",
    "from deap import tools\n",
    "import numpy as np\n",
    "import random\n",
    "import math\n",
    "import pandas as pd\n",
    "import time\n",
    "import matplotlib.pyplot as plt\n",
    "import statistics\n",
    "import utils.GA_utils as GA_utils"
   ]
  },
  {
   "cell_type": "markdown",
   "id": "733c07da",
   "metadata": {},
   "source": [
    "By running the following cell, you import the experimental data.\n"
   ]
  },
  {
   "cell_type": "code",
   "execution_count": null,
   "id": "ed2b15f6",
   "metadata": {},
   "outputs": [],
   "source": [
    "# Insert Correct Path\n",
    "path = \"dataset_gaussian\"\n",
    "LL = np.loadtxt(path + \"/LL.txt\", dtype=\"f\", delimiter=\"\\t\")\n",
    "HH = np.loadtxt(path + \"/HH.txt\", dtype=\"f\", delimiter=\"\\t\")\n",
    "HL = np.loadtxt(path + \"/HL.txt\", dtype=\"f\", delimiter=\"\\t\")\n",
    "LD = np.loadtxt(path + \"/LD.txt\", dtype=\"f\", delimiter=\"\\t\")\n",
    "LH = np.loadtxt(path + \"/LH.txt\", dtype=\"f\", delimiter=\"\\t\")\n",
    "HD = np.loadtxt(path + \"/HD.txt\", dtype=\"f\", delimiter=\"\\t\")\n",
    "DL = np.loadtxt(path + \"/DL.txt\", dtype=\"f\", delimiter=\"\\t\")"
   ]
  },
  {
   "cell_type": "markdown",
   "id": "ccb54a04",
   "metadata": {},
   "source": [
    "If available, you can import the theoretical $U_{Th}$ to compute the fidelity of the reconstructed process."
   ]
  },
  {
   "cell_type": "code",
   "execution_count": null,
   "id": "9969da7d",
   "metadata": {},
   "outputs": [],
   "source": [
    "Theta_t = np.loadtxt(path + \"/random_Theta.txt\", dtype=\"f\", delimiter=\"\\t\")\n",
    "nx_t = np.loadtxt(path + \"/random_nx.txt\", dtype=\"f\", delimiter=\"\\t\")\n",
    "ny_t = np.loadtxt(path + \"/random_ny.txt\", dtype=\"f\", delimiter=\"\\t\")\n",
    "nz_t = np.loadtxt(path + \"/random_nz.txt\", dtype=\"f\", delimiter=\"\\t\")"
   ]
  },
  {
   "cell_type": "markdown",
   "id": "8923a7aa",
   "metadata": {},
   "source": [
    "The function `compute_unitary` is used to compute the unitary $U$, given the parameters $\\Theta\\in[0,\\pi]$ and $\\mathbf{n}=(n_x,n_y,n_z)$ according to:\n",
    "\n",
    "\\begin{equation}\n",
    "U=\\begin{pmatrix}\n",
    "\\cos \\Theta -i \\sin \\Theta \\,n_z && -i\\sin \\Theta \\,(n_x-i n_y)\\\\\n",
    "-i\\sin \\Theta \\,(n_x+i n_y) && \\cos \\Theta + i \\sin \\Theta \\,n_z\n",
    "\\end{pmatrix}\n",
    "\\end{equation}"
   ]
  },
  {
   "cell_type": "code",
   "execution_count": null,
   "id": "d6fc115f",
   "metadata": {},
   "outputs": [],
   "source": [
    "def compute_unitary(Theta, nx, ny, nz):\n",
    "    I = np.array([[1, 0], [0, 1]])\n",
    "    sx = np.matrix([[0, 1], [1, 0]])\n",
    "    sy = np.matrix([[0, -1j], [1j, 0]])\n",
    "    sz = np.matrix([[1, 0], [0, -1]])\n",
    "    return math.cos(Theta) * I - 1j * math.sin(Theta) * (nx * sx + ny * sy + nz * sz)"
   ]
  },
  {
   "cell_type": "markdown",
   "id": "4fdf8a66",
   "metadata": {},
   "source": [
    "The hyper-parameters of the GA are defined:"
   ]
  },
  {
   "cell_type": "code",
   "execution_count": null,
   "id": "73baae3b",
   "metadata": {},
   "outputs": [],
   "source": [
    "POP_SIZE = 60\n",
    "CXPB = 0.8\n",
    "MUTPB = 0.3\n",
    "NGEN = 100\n",
    "STATS = GA_utils.createStats()\n",
    "pop_list = None\n",
    "TS_SIZE = 3"
   ]
  },
  {
   "cell_type": "markdown",
   "id": "d71eed73",
   "metadata": {},
   "source": [
    "_____\n",
    "\n",
    "### Genetic Reconstruction with 6 measurements\n",
    "\n",
    "The following cell defines the fitness function to perform the genetic reconstruction with 6 measurements. \n",
    "The set of measurements is  $[HH, LL, HL, LD, LH, HD]$"
   ]
  },
  {
   "cell_type": "code",
   "execution_count": null,
   "id": "579d4462",
   "metadata": {},
   "outputs": [],
   "source": [
    "def evaluate(HH, LL, HL, LD, LH, HD, individual):\n",
    "    '''\n",
    "    Fitness function for genetic reconstruction with 6 measurements\n",
    "    _____\n",
    "    \n",
    "    :return The fitness value of an individual\n",
    "    '''\n",
    "    Theta, nx, ny, nz = individual[0], individual[1], individual[2], individual[3]\n",
    "    f = ((math.cos(Theta)**2 - HH + nx**2 * math.sin(Theta)**2)**2) / HH + ((math.cos(Theta)**2 - LL + nz**2 * math.sin(Theta)**2)**2) / LL + ( ( -HL + 1/2 * (math.cos(Theta)**2 - 2 * ny * math.cos(Theta) * math.sin(Theta) + (ny**2 + (nx + nz)**2) * math.sin(Theta)**2))**2 )/ HL + ( ( -LD + 1/2 * (math.cos(Theta)**2 - 2 * nx * math.cos(Theta) * math.sin(Theta) + (nx**2 + (ny + nz)**2) * math.sin(Theta)**2))**2 ) / LD + ((-LH + 1/2 * (math.cos(Theta)**2 + (ny**2 + (nx + nz)**2) * math.sin(Theta)**2 + ny * math.sin(2 * Theta)))**2 )/ LH + (( -HD + 1/2 * (math.cos(Theta)**2 + ((nx + ny)**2 + nz**2) * math.sin(Theta)**2 +nz * math.sin(2 * Theta)))**2)/ HD\n",
    "    return f"
   ]
  },
  {
   "cell_type": "markdown",
   "id": "c9ed81d9",
   "metadata": {},
   "source": [
    "The reconstruction starts. Specify in  `iteration` the number of independent runs to compute. Please, specify also the  `number_of_processes` you have to reconstruct, depending on the size of your dataset. "
   ]
  },
  {
   "cell_type": "code",
   "execution_count": null,
   "id": "3533c5fb",
   "metadata": {},
   "outputs": [],
   "source": [
    "# Create the DEAP toolbox\n",
    "toolbox = GA_utils.createToolbox()\n",
    "toolbox.decorate(\"mutate\", GA_utils.checkBounds(0, np.pi))\n",
    "toolbox.decorate(\"mate\", GA_utils.checkBounds(0, np.pi))\n",
    "\n",
    "# Set the number of iterations used for averaging the GA results\n",
    "iterations = 10\n",
    "\n",
    "#Specify the number of process you have to reconstruct\n",
    "number_of_processes = 1000\n",
    "\n",
    "# Reconstruction\n",
    "F_to_average = []\n",
    "for _ in range(iterations):\n",
    "    best, times = [], []\n",
    "    fidelities = []\n",
    "    for i in range(number_of_processes):\n",
    "\n",
    "        toolbox.register(\"evaluate\", evaluate, HH[i], LL[i], HL[i], LD[i], LH[i], HD[i])\n",
    "\n",
    "        GA = GA_utils.updatedGA(\n",
    "            toolbox,\n",
    "            pop_size=POP_SIZE,\n",
    "            cxpb=CXPB,\n",
    "            mutpb=MUTPB,\n",
    "            ngen=NGEN,\n",
    "            stats=STATS,\n",
    "            tourn_size=TS_SIZE,\n",
    "            hof=tools.HallOfFame(1),\n",
    "            verbose=False,\n",
    "        )\n",
    "        best.append(GA[2][0])\n",
    "\n",
    "        individual = GA[2][0]\n",
    "        Theta = individual[0]\n",
    "        nx = individual[1]\n",
    "        ny = individual[2]\n",
    "        nz = individual[3]\n",
    "\n",
    "        computed_u = compute_unitary(Theta, nx, ny, nz)\n",
    "        data_u = compute_unitary(Theta_t[i], nx_t[i], ny_t[i], nz_t[i])\n",
    "\n",
    "        F = 0.5 * np.linalg.norm(np.trace(data_u.getH() * computed_u))\n",
    "        fidelities.append(F)\n",
    "    F_to_average.append(fidelities)\n",
    "\n",
    "# Averaging of results\n",
    "avg = []\n",
    "for process in range(number_of_processes):\n",
    "    fid = []\n",
    "    for _ in range(iterations):\n",
    "        fid.append(F_to_average[_][process])\n",
    "    avg.append(statistics.mean(fid))\n"
   ]
  },
  {
   "cell_type": "markdown",
   "id": "62ea0c06",
   "metadata": {},
   "source": [
    "The fidelities of individual reconstructions is shown:"
   ]
  },
  {
   "cell_type": "code",
   "execution_count": null,
   "id": "e4dccd73",
   "metadata": {},
   "outputs": [],
   "source": [
    "plt.plot(range(number_of_processes), avg)\n",
    "plt.show()"
   ]
  },
  {
   "cell_type": "markdown",
   "id": "f364ae6d",
   "metadata": {},
   "source": [
    "The mean infidelity is computed:"
   ]
  },
  {
   "cell_type": "code",
   "execution_count": null,
   "id": "efef78e8",
   "metadata": {},
   "outputs": [],
   "source": [
    "print(\n",
    "    statistics.mean([1 - avg[i] for i in range(len(avg))]),\n",
    "    statistics.stdev([1 - avg[i] for i in range(len(avg))]),\n",
    ")"
   ]
  },
  {
   "cell_type": "markdown",
   "id": "c4bf141a",
   "metadata": {},
   "source": [
    "____\n",
    "\n",
    "### Genetic Reconstruction with 5 measurements\n",
    "\n",
    "The following cell defines the fitness function to perform the genetic reconstruction with 5 measurements. \n",
    "The set of measurements is $[HL, LD, LL, DL, LH]$."
   ]
  },
  {
   "cell_type": "code",
   "execution_count": null,
   "id": "b1527475",
   "metadata": {},
   "outputs": [],
   "source": [
    "def evaluate(HL, LD, LL, DL, LH, individual):\n",
    "    '''\n",
    "    Fitness function for genetic reconstruction with 5 measurements\n",
    "    _____\n",
    "    \n",
    "    :return The fitness value of an individual\n",
    "    '''\n",
    "    Theta, nx, ny, nz = individual[0], individual[1], individual[2], individual[3]\n",
    "    f = (0.5 - HL - ny * math.cos(Theta) * math.sin(Theta) + nx * nz * math.sin(Theta)**2)**2 / HL + (\n",
    "                0.5 - LD - nx * math.cos(Theta) * math.sin(Theta) + ny * nz * math.sin(Theta)**2)**2 / LD + (\n",
    "                    math.cos(Theta)**2 - LL + nz**2 * math.sin(Theta)**2)**2 / LL + (\n",
    "                    -DL + 0.5* (1 + 2 * ny * nz * math.sin(Theta)**2 + nx * math.sin(2 * Theta)))**2 / DL + (\n",
    "                        -LH + 1 / 2 * (1 + 2 * nx * nz * math.sin(Theta)**2 + ny * math.sin(2 * Theta)))**2 / LH\n",
    "    return f"
   ]
  },
  {
   "cell_type": "code",
   "execution_count": null,
   "id": "53b6866f",
   "metadata": {},
   "outputs": [],
   "source": [
    "# Create the DEAP toolbox\n",
    "toolbox = GA_utils.createToolbox()\n",
    "toolbox.decorate(\"mutate\", GA_utils.checkBounds(0, np.pi))\n",
    "toolbox.decorate(\"mate\", GA_utils.checkBounds(0, np.pi))\n",
    "\n",
    "# Set the number of iterations used for averaging the GA results\n",
    "iterations = 10\n",
    "\n",
    "#Specify the number of process you have to reconstruct\n",
    "number_of_processes = 1000\n",
    "\n",
    "# Reconstruction\n",
    "F_to_average = []\n",
    "for _ in range(iterations):\n",
    "\n",
    "    best = []\n",
    "\n",
    "    for i in range(number_of_processes):\n",
    "        toolbox.register(\"evaluate\", evaluate, HL[i], LD[i], LL[i], DL[i], LH[i])\n",
    "\n",
    "        GA = GA_utils.updatedGA(\n",
    "            toolbox,\n",
    "            pop_size=POP_SIZE,\n",
    "            cxpb=CXPB,\n",
    "            mutpb=MUTPB,\n",
    "            ngen=NGEN,\n",
    "            stats=STATS,\n",
    "            tourn_size=TS_SIZE,\n",
    "            hof=tools.HallOfFame(1),\n",
    "            verbose=True,\n",
    "        )\n",
    "        best.append(GA[2][0])\n",
    "    fidelities = []\n",
    "\n",
    "    for i in range(len(best)):\n",
    "        individual = best[i]\n",
    "        Theta = individual[0]\n",
    "        nx = individual[1]\n",
    "        ny = individual[2]\n",
    "        nz = individual[3]\n",
    "\n",
    "        computed_u = compute_unitary(Theta, nx, ny, nz)\n",
    "        data_u = compute_unitary(Theta_t[i], nx_t[i], ny_t[i], nz_t[i])\n",
    "\n",
    "        F = 0.5 * np.linalg.norm(np.trace(data_u.getH() * computed_u))\n",
    "        fidelities.append(F)\n",
    "    F_to_average.append(fidelities)\n",
    "\n",
    "#Averaging for the results\n",
    "avg = []\n",
    "for process in range(number_of_processes):\n",
    "    fid = []\n",
    "    for _ in range(iterations):\n",
    "        fid.append(F_to_average[_][process])\n",
    "    avg.append(statistics.mean(fid))\n",
    "\n"
   ]
  },
  {
   "cell_type": "markdown",
   "id": "308d4349",
   "metadata": {},
   "source": [
    "Individual fidelities are shown and the mean infidelity is computed:"
   ]
  },
  {
   "cell_type": "code",
   "execution_count": null,
   "id": "d8fdc4dc",
   "metadata": {
    "scrolled": true
   },
   "outputs": [],
   "source": [
    "plt.plot(range(number_of_processes), avg)\n",
    "plt.show()\n",
    "print(statistics.mean([1 - avg[i] for i in range(len(avg))]), statistics.stdev(avg))"
   ]
  },
  {
   "cell_type": "markdown",
   "id": "62b9ae99",
   "metadata": {},
   "source": [
    "____\n",
    "\n",
    "### Genetic Reconstruction with 4 measurements\n",
    "\n",
    "The following cell defines the fitness function to perform the genetic reconstruction with 4 measurements. \n",
    "The set of measurements is $[HH, LL, LH, HD]$."
   ]
  },
  {
   "cell_type": "code",
   "execution_count": null,
   "id": "efbe325f",
   "metadata": {},
   "outputs": [],
   "source": [
    "def evaluate(HH, LL, LH, HD,  individual):\n",
    "    '''\n",
    "    Fitness function for genetic reconstruction with 4 measurements\n",
    "    _____\n",
    "    \n",
    "    :return The fitness value of an individual\n",
    "    '''\n",
    "    Theta, nx, ny, nz = individual[0], individual[1], individual[2], individual[3]\n",
    "    f = ((math.cos(Theta)**2 - HH + nx**2 * math.sin(Theta)**2)**2) / HH + ((math.cos(Theta)**2 - LL + nz**2 * math.sin(Theta)**2)**2) / LL  + ((-LH + 1/2 * (math.cos(Theta)**2 + (ny**2 + (nx + nz)**2) * math.sin(Theta)**2 + ny * math.sin(2 * Theta)))**2 )/ LH + (( -HD + 1/2 * (math.cos(Theta)**2 + ((nx + ny)**2 + nz**2) * math.sin(Theta)**2 +nz * math.sin(2 * Theta)))**2)/ HD\n",
    "    return f"
   ]
  },
  {
   "cell_type": "code",
   "execution_count": null,
   "id": "f085e8d0",
   "metadata": {},
   "outputs": [],
   "source": [
    "# Create the DEAP toolbox\n",
    "toolbox = GA_utils.createToolbox()\n",
    "toolbox.decorate(\"mutate\", GA_utils.checkBounds(0, np.pi))\n",
    "toolbox.decorate(\"mate\", GA_utils.checkBounds(0, np.pi))\n",
    "\n",
    "# Set the number of iterations used for averaging the GA results\n",
    "iterations = 10\n",
    "\n",
    "#Specify the number of process you have to reconstruct\n",
    "number_of_processes = 1000\n",
    "\n",
    "# Reconstruction\n",
    "F_to_average = []\n",
    "for _ in range(iterations):\n",
    "\n",
    "    best = []\n",
    "    fidelities = []\n",
    "    for i in range(number_of_processes):\n",
    "        toolbox.register(\"evaluate\", evaluate, HH[i], LL[i], LH[i], HD[i])\n",
    "\n",
    "        GA = GA_utils.updatedGA(\n",
    "            toolbox,\n",
    "            pop_size=POP_SIZE,\n",
    "            cxpb=CXPB,\n",
    "            mutpb=MUTPB,\n",
    "            ngen=NGEN,\n",
    "            stats=STATS,\n",
    "            tourn_size=TS_SIZE,\n",
    "            hof=tools.HallOfFame(1),\n",
    "            verbose=False,\n",
    "        )\n",
    "        best.append(GA[2][0])\n",
    "        individual = GA[2][0]\n",
    "        Theta = individual[0]\n",
    "        nx = individual[1]\n",
    "        ny = individual[2]\n",
    "        nz = individual[3]\n",
    "        computed_u = compute_unitary(Theta, nx, ny, nz)\n",
    "        data_u = compute_unitary(Theta_t[i], nx_t[i], ny_t[i], nz_t[i])\n",
    "\n",
    "        F = 0.5 * np.linalg.norm(np.trace(data_u.getH() * computed_u))\n",
    "        fidelities.append(F)\n",
    "    F_to_average.append(fidelities)\n",
    "    \n",
    "#Averaging The Results\n",
    "avg = []\n",
    "for process in range(number_of_processes):\n",
    "    fid = []\n",
    "    for _ in range(iterations):\n",
    "        fid.append(F_to_average[_][process])\n",
    "    avg.append(statistics.mean(fid))"
   ]
  },
  {
   "cell_type": "markdown",
   "id": "f2f2b0ab",
   "metadata": {},
   "source": [
    "Individual fidelities are shown and the mean infidelity is computed:"
   ]
  },
  {
   "cell_type": "code",
   "execution_count": null,
   "id": "40c0ec35",
   "metadata": {},
   "outputs": [],
   "source": [
    "plt.plot(range(number_of_processes), avg)\n",
    "plt.show()\n",
    "print(statistics.mean([1 - avg[i] for i in range(len(avg))]), statistics.stdev(avg))"
   ]
  },
  {
   "cell_type": "markdown",
   "id": "16fb814b",
   "metadata": {},
   "source": [
    "____\n",
    "\n",
    "### Genetic Reconstruction with 3 measurements\n",
    "\n",
    "The following cell defines the fitness function to perform the genetic reconstruction with 3 measurements. \n",
    "The set of measurements is $[LH, HD, DL]$."
   ]
  },
  {
   "cell_type": "code",
   "execution_count": null,
   "id": "afe496f9",
   "metadata": {},
   "outputs": [],
   "source": [
    "def evaluate(LH, HD, DL, individual):\n",
    "    '''\n",
    "    Fitness function for genetic reconstruction with 3 measurements\n",
    "    _____\n",
    "    \n",
    "    :return The fitness value of an individual\n",
    "    '''\n",
    "    Theta, nx, ny, nz = individual[0], individual[1], individual[2], individual[3]\n",
    "    f = ((-LH + 1/2 * (math.cos(Theta)**2 + (ny**2 + (nx + nz)**2) * math.sin(Theta)**2 + ny * math.sin(2 * Theta)))**2 )/ LH + (( -HD + 1/2 * (math.cos(Theta)**2 + ((nx + ny)**2 + nz**2) * math.sin(Theta)**2 +nz * math.sin(2 * Theta)))**2)/ HD + ( -DL + 1/2 * (math.cos(Theta)**2 + (nx**2 + (ny + nz)**2) * math.sin(Theta)**2 + nx * math.sin(2 * Theta)))**2/DL    \n",
    "    return f"
   ]
  },
  {
   "cell_type": "code",
   "execution_count": null,
   "id": "b6908aa3",
   "metadata": {},
   "outputs": [],
   "source": [
    "# Create the DEAP toolbox\n",
    "toolbox = GA_utils.createToolbox()\n",
    "toolbox.decorate(\"mutate\", GA_utils.checkBounds(0, np.pi))\n",
    "toolbox.decorate(\"mate\", GA_utils.checkBounds(0, np.pi))\n",
    "\n",
    "# Set the number of iterations used for averaging the GA results\n",
    "iterations = 10\n",
    "\n",
    "#Specify the number of process you have to reconstruct\n",
    "number_of_processes = 1000\n",
    "\n",
    "# Reconstruction\n",
    "F_to_average = []\n",
    "for _ in range(iterations):\n",
    "    fidelities = []\n",
    "    best = []\n",
    "\n",
    "    for i in range(number_of_processes):\n",
    "        toolbox.register(\"evaluate\", evaluate, LH[i], HD[i], DL[i])\n",
    "\n",
    "        GA = GA_utils.updatedGA(\n",
    "            toolbox,\n",
    "            pop_size=POP_SIZE,\n",
    "            cxpb=CXPB,\n",
    "            mutpb=MUTPB,\n",
    "            ngen=NGEN,\n",
    "            stats=STATS,\n",
    "            tourn_size=TS_SIZE,\n",
    "            hof=tools.HallOfFame(1),\n",
    "            verbose=False,\n",
    "        )\n",
    "        best.append(GA[2][0])\n",
    "\n",
    "        individual = GA[2][0]\n",
    "        Theta = individual[0]\n",
    "        nx = individual[1]\n",
    "        ny = individual[2]\n",
    "        nz = individual[3]\n",
    "        computed_u = compute_unitary(Theta, nx, ny, nz)\n",
    "        data_u = compute_unitary(Theta_t[i], nx_t[i], ny_t[i], nz_t[i])\n",
    "\n",
    "        F = 0.5 * np.linalg.norm(np.trace(data_u.getH() * computed_u))\n",
    "        fidelities.append(F)\n",
    "    F_to_average.append(fidelities)\n",
    "\n",
    "\n",
    "# Averaging of results\n",
    "avg = []\n",
    "for process in range(number_of_processes):\n",
    "    fid = []\n",
    "    for _ in range(iterations):\n",
    "        fid.append(F_to_average[_][process])\n",
    "    avg.append(statistics.mean(fid))"
   ]
  },
  {
   "cell_type": "markdown",
   "id": "8d4305bc",
   "metadata": {},
   "source": [
    "Individual fidelities are shown and the mean infidelity is computed:"
   ]
  },
  {
   "cell_type": "code",
   "execution_count": null,
   "id": "f2606623",
   "metadata": {},
   "outputs": [],
   "source": [
    "plt.plot(range(number_of_processes), avg)\n",
    "plt.show()\n",
    "print(statistics.mean([1 - avg[i] for i in range(len(avg))]), statistics.stdev(avg))"
   ]
  }
 ],
 "metadata": {
  "kernelspec": {
   "display_name": "Python 3",
   "language": "python",
   "name": "python3"
  },
  "language_info": {
   "codemirror_mode": {
    "name": "ipython",
    "version": 3
   },
   "file_extension": ".py",
   "mimetype": "text/x-python",
   "name": "python",
   "nbconvert_exporter": "python",
   "pygments_lexer": "ipython3",
   "version": "3.9.12"
  }
 },
 "nbformat": 4,
 "nbformat_minor": 5
}
