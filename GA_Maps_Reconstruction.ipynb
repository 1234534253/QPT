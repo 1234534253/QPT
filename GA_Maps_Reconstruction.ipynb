{
 "cells": [
  {
   "cell_type": "markdown",
   "id": "826358d4",
   "metadata": {},
   "source": [
    "# Quantum Process Tomography via Genetic Algorithms\n",
    "\n",
    "## Complex polarization transformations\n",
    "___\n",
    "\n",
    "This notebook performs the process tomography for the experiments proposed in our paper 'Retrieving unitary polarization transformations via optimized quantum tomography'.\n",
    "\n",
    "You can use this code for your experiments as well, by modelling your data in a similar way to the data available in the repository. \n",
    "\n",
    "________\n",
    "\n",
    "First, the required libraries are imported:"
   ]
  },
  {
   "cell_type": "code",
   "execution_count": null,
   "id": "c0320b13",
   "metadata": {},
   "outputs": [],
   "source": [
    "from deap import base\n",
    "from deap import creator\n",
    "from deap import tools\n",
    "import numpy as np\n",
    "import random\n",
    "import math\n",
    "import pandas as pd\n",
    "import time\n",
    "import itertools\n",
    "import utils.GA_utils as GA_utils\n",
    "import statistics\n",
    "import seaborn as sns\n",
    "import matplotlib.pyplot as plt"
   ]
  },
  {
   "cell_type": "markdown",
   "id": "96a2dc96",
   "metadata": {},
   "source": [
    "The hyper-parameters of the GA are defined: "
   ]
  },
  {
   "cell_type": "code",
   "execution_count": null,
   "id": "f2234ac4",
   "metadata": {},
   "outputs": [],
   "source": [
    "POP_SIZE = 40\n",
    "CXPB = 0.8\n",
    "MUTPB = 0.1\n",
    "NGEN = 60\n",
    "STATS = GA_utils.createStats()\n",
    "pop_list = None\n",
    "TS_SIZE = 3"
   ]
  },
  {
   "cell_type": "markdown",
   "id": "5c939b41",
   "metadata": {},
   "source": [
    "The function `compute_unitary` is used to compute the unitary $U$, given the parameters $\\Theta\\in[0,\\pi]$ and $\\mathbf{n}=(n_x,n_y,n_z)$, according to:\n",
    "\n",
    "\\begin{equation}\n",
    "U=\\begin{pmatrix}\n",
    "\\cos \\Theta -i \\sin \\Theta \\,n_z && -i\\sin \\Theta \\,(n_x-i n_y)\\\\\n",
    "-i\\sin \\Theta \\,(n_x+i n_y) && \\cos \\Theta + i \\sin \\Theta \\,n_z\n",
    "\\end{pmatrix}\n",
    "\\end{equation}"
   ]
  },
  {
   "cell_type": "code",
   "execution_count": null,
   "id": "09cf74bd",
   "metadata": {},
   "outputs": [],
   "source": [
    "def compute_unitary(Theta, nx, ny, nz):\n",
    "    I = np.array([[1, 0], [0, 1]])\n",
    "    sx = np.matrix([[0, 1], [1, 0]])\n",
    "    sy = np.matrix([[0, -1j], [1j, 0]])\n",
    "    sz = np.matrix([[1, 0], [0, -1]])\n",
    "    return math.cos(Theta) * I - 1j * math.sin(Theta) * (nx * sx + ny * sy + nz * sz)"
   ]
  },
  {
   "cell_type": "markdown",
   "id": "928aa31e",
   "metadata": {},
   "source": [
    "_____\n",
    "\n",
    "### Polarimetric measurements\n",
    "\n",
    "We provide the explicit expression of possible polarimetric measurements in terms of the parameters $\\Theta$ and $\\mathbf{n}$"
   ]
  },
  {
   "cell_type": "code",
   "execution_count": null,
   "id": "3cdf240e",
   "metadata": {},
   "outputs": [],
   "source": [
    "def lltheory(Theta,nx,ny,nz):\n",
    "    return math.cos(Theta)**2 + nz**2 * math.sin(Theta)**2\n",
    "def lhtheory(Theta,nx,ny,nz):\n",
    "    return 0.5 * (1 + 2 * nx * nz * math.sin(Theta)**2 + ny * math.sin(2 * Theta))\n",
    "def ldtheory(Theta,nx,ny,nz):\n",
    "    return 0.5 - nx * math.cos(Theta) * math.sin(Theta) + ny * nz * math.sin(Theta)**2\n",
    "def hltheory(Theta,nx,ny,nz):\n",
    "    return 0.5 - ny * math.cos(Theta) * math.sin(Theta) + nx * nz * math.sin(Theta)**2\n",
    "def hhtheory(Theta,nx,ny,nz):\n",
    "    return math.cos(Theta)**2 + nx**2 * math.sin(Theta)**2\n",
    "def hdtheory(Theta,nx,ny,nz):\n",
    "    return 0.5 * (1 + 2 * nx * ny * math.sin(Theta)**2 + nz * math.sin(2 * Theta))"
   ]
  },
  {
   "cell_type": "markdown",
   "id": "8959c36c",
   "metadata": {},
   "source": [
    "The fitness function is defined:"
   ]
  },
  {
   "cell_type": "code",
   "execution_count": null,
   "id": "16b90610",
   "metadata": {},
   "outputs": [],
   "source": [
    "def evaluate(HH, LL, HL, LD, LH, HD, individual):\n",
    "    \n",
    "    Theta, nx, ny, nz = individual[0], individual[1], individual[2], individual[3]\n",
    "    ll = lltheory(Theta,nx,ny,nz)\n",
    "    lh = lhtheory(Theta,nx,ny,nz)\n",
    "    ld = ldtheory(Theta,nx,ny,nz)\n",
    "    hl = hltheory(Theta,nx,ny,nz)\n",
    "    hh = hhtheory(Theta,nx,ny,nz)\n",
    "    hd = hdtheory(Theta,nx,ny,nz)\n",
    "    \n",
    "    f = ((ll - LL)**2) + ((lh - LH)**2) + ((ld - LD)**2) + ((hl - HL)**2) + ((hh - HH)**2) + ((hd - HD)**2) \n",
    "    return f"
   ]
  },
  {
   "cell_type": "markdown",
   "id": "5a72237a",
   "metadata": {},
   "source": [
    "By running the following cell, you import the experimental data.\n",
    "\n",
    "Please select a process from 1 to 3, to replicate the corresponding experiment in the paper. "
   ]
  },
  {
   "cell_type": "code",
   "execution_count": null,
   "id": "8d693550",
   "metadata": {
    "scrolled": true
   },
   "outputs": [],
   "source": [
    "process = \"1\"\n",
    "path = \"experimental_data/\"\n",
    "LL = np.loadtxt(path + process + \"/LL.txt\", dtype=\"f\", delimiter=\"\\t\")\n",
    "HH = np.loadtxt(path + process + \"/HH.txt\", dtype=\"f\", delimiter=\"\\t\")\n",
    "HL = np.loadtxt(path + process + \"/HL.txt\", dtype=\"f\", delimiter=\"\\t\")\n",
    "LD = np.loadtxt(path + process + \"/LD.txt\", dtype=\"f\", delimiter=\"\\t\")\n",
    "LH = np.loadtxt(path + process + \"/LH.txt\", dtype=\"f\", delimiter=\"\\t\")\n",
    "HD = np.loadtxt(path + process + \"/HD.txt\", dtype=\"f\", delimiter=\"\\t\")\n",
    "print(LL.shape, HH.shape, HL.shape, LD.shape, LH.shape, HD.shape)"
   ]
  },
  {
   "cell_type": "markdown",
   "id": "aea3ddb3",
   "metadata": {},
   "source": [
    "By running the following cell, you import the theoretical parameters."
   ]
  },
  {
   "cell_type": "code",
   "execution_count": null,
   "id": "0259e5bc",
   "metadata": {},
   "outputs": [],
   "source": [
    "theta_t = np.loadtxt(path + process + \"/thetath.txt\", dtype='f', delimiter='\\t')\n",
    "nx_t = np.loadtxt(path + process + \"/nxth.txt\", dtype='f', delimiter='\\t')\n",
    "ny_t = np.loadtxt(path + process + \"/nyth.txt\", dtype='f', delimiter='\\t')\n",
    "nz_t = np.loadtxt(path + process + \"/nzth.txt\", dtype='f', delimiter='\\t')"
   ]
  },
  {
   "cell_type": "markdown",
   "id": "2a5e7517",
   "metadata": {},
   "source": [
    "The pixel-by-pixel reconstruction starts. "
   ]
  },
  {
   "cell_type": "code",
   "execution_count": null,
   "id": "916d9106",
   "metadata": {},
   "outputs": [],
   "source": [
    "im_size_x, im_size_y = 73, 73"
   ]
  },
  {
   "cell_type": "code",
   "execution_count": null,
   "id": "0f541ddf",
   "metadata": {},
   "outputs": [],
   "source": [
    "toolbox = GA_utils.createToolbox()\n",
    "toolbox.decorate(\"mutate\", GA_utils.checkBounds(0, np.pi))\n",
    "toolbox.decorate(\"mate\", GA_utils.checkBounds(0, np.pi))\n",
    "\n",
    "final_pop_pixels = {\n",
    "    str(pixel[0]) + \"_\" + str(pixel[1]): \"\"\n",
    "    for pixel in itertools.product(\n",
    "        [i for i in range(im_size_x)], [j for j in range(im_size_y)]\n",
    "    )\n",
    "}\n",
    "best_ind_pixels = {\n",
    "    str(pixel[0]) + \"_\" + str(pixel[1]): \"\"\n",
    "    for pixel in itertools.product(\n",
    "        [i for i in range(im_size_x)], [j for j in range(im_size_y)]\n",
    "    )\n",
    "}\n",
    "start_time = time.time()\n",
    "for i in range(im_size_x):\n",
    "    for j in range(im_size_y):\n",
    "        toolbox.register(\n",
    "            \"evaluate\",\n",
    "            evaluate,\n",
    "            HH[i][j],\n",
    "            LL[i][j],\n",
    "            HL[i][j],\n",
    "            LD[i][j],\n",
    "            LH[i][j],\n",
    "            HD[i][j],\n",
    "        )\n",
    "\n",
    "        if i == 0 and j == 0:\n",
    "            s = True\n",
    "            NGEN = NGEN\n",
    "        else:\n",
    "            s = False\n",
    "            NGEN = 10\n",
    "\n",
    "        GA = GA_utils.updateGA_Map(\n",
    "            toolbox,\n",
    "            pixel=(i, j),\n",
    "            im_size_x=im_size_x,\n",
    "            im_size_y=im_size_y,\n",
    "            best_ind_pixels=best_ind_pixels,\n",
    "            pop_size=POP_SIZE,\n",
    "            cxpb=CXPB,\n",
    "            mutpb=MUTPB,\n",
    "            ngen=NGEN,\n",
    "            stats=STATS,\n",
    "            tourn_size=TS_SIZE,\n",
    "            hof=tools.HallOfFame(1),\n",
    "            starting_point=s,\n",
    "            verbose=False,\n",
    "        )\n",
    "        (\n",
    "            final_pop_pixels[str(i) + \"_\" + str(j)],\n",
    "            best_ind_pixels[str(i) + \"_\" + str(j)],\n",
    "        ) = (GA[0], GA[2][0])\n",
    "print(\"Reconstruction time in s: \", time.time() - start_time)"
   ]
  },
  {
   "cell_type": "markdown",
   "id": "785a4fc1",
   "metadata": {},
   "source": [
    "The pixel-by-pixel fidelities are computed:"
   ]
  },
  {
   "cell_type": "code",
   "execution_count": null,
   "id": "32fc028f",
   "metadata": {},
   "outputs": [],
   "source": [
    "fidelities = {}\n",
    "im_theta, im_theta_t = {},{}\n",
    "im_nx, im_nx_t = {},{}\n",
    "im_ny, im_ny_t = {},{}\n",
    "im_nz, im_nz_t = {},{}\n",
    "\n",
    "for i in range(im_size_x):\n",
    "    for j in range(im_size_y):\n",
    "        individual = best_ind_pixels[str(i)+'_'+str(j)]\n",
    "        theta = individual[0]\n",
    "        nx = individual[1]\n",
    "        ny = individual[2]\n",
    "        nz = individual[3]\n",
    "        im_theta[str(i)+'_'+str(j)], im_nx[str(i)+'_'+str(j)], im_ny[str(i)+'_'+str(j)], im_nz[str(i)+'_'+str(j)]= theta,nx,ny,nz\n",
    "\n",
    "        computed_u = compute_unitary(theta, nx, ny, nz)\n",
    "        data_u = compute_unitary(theta_t[i][j],nx_t[i][j],ny_t[i][j],nz_t[i][j])\n",
    "        im_theta_t[str(i)+'_'+str(j)], im_nx_t[str(i)+'_'+str(j)], im_ny_t[str(i)+'_'+str(j)], im_nz_t[str(i)+'_'+str(j)]= theta_t[i][j],nx_t[i][j],ny_t[i][j],nz_t[i][j]\n",
    "        F = 0.5 * np.linalg.norm(np.trace(data_u.getH() * computed_u))\n",
    "        fidelities[str(i)+'_'+str(j)]=F"
   ]
  },
  {
   "cell_type": "markdown",
   "id": "c1ee30dd",
   "metadata": {},
   "source": [
    "The mean fidelity is computed:"
   ]
  },
  {
   "cell_type": "code",
   "execution_count": null,
   "id": "a4af314e",
   "metadata": {},
   "outputs": [],
   "source": [
    "print(statistics.mean(list(fidelities.values())))"
   ]
  },
  {
   "cell_type": "markdown",
   "id": "f35848dc",
   "metadata": {},
   "source": [
    "#### Theoretical $\\Theta$"
   ]
  },
  {
   "cell_type": "code",
   "execution_count": null,
   "id": "0446cea3",
   "metadata": {},
   "outputs": [],
   "source": [
    "im_theta_np_t = np.array(list(im_theta_t.values()))\n",
    "tehta_t_ = np.reshape(im_theta_np_t, (im_size_x, im_size_y))\n",
    "\n",
    "\n",
    "plt.rcParams[\"figure.figsize\"] = (8, 6)\n",
    "ax = sns.heatmap(\n",
    "    theta_t, cmap=\"YlGnBu\", xticklabels=False, yticklabels=False, vmin=0, vmax=math.pi\n",
    ")\n",
    "ax.set_xlabel(r\"$x$\", fontsize=14)\n",
    "ax.set_ylabel(r\"$y$\", fontsize=14)\n",
    "cbar = ax.collections[0].colorbar\n",
    "cbar.set_ticks([0, math.pi])\n",
    "cbar.set_ticklabels([\"0\", r\"$\\pi$\"])\n",
    "plt.tight_layout()\n",
    "plt.show()"
   ]
  },
  {
   "cell_type": "markdown",
   "id": "01019874",
   "metadata": {},
   "source": [
    "#### Reconstructed $\\Theta$"
   ]
  },
  {
   "cell_type": "code",
   "execution_count": null,
   "id": "6c7b0008",
   "metadata": {},
   "outputs": [],
   "source": [
    "im_theta_np = np.array(list(im_theta.values()))\n",
    "theta_ = np.reshape(im_theta_np, (im_size_x, im_size_y))\n",
    "\n",
    "\n",
    "plt.rcParams[\"figure.figsize\"] = (8, 6)\n",
    "ax = sns.heatmap(\n",
    "    theta_,\n",
    "    cmap=\"YlGnBu\",\n",
    "    xticklabels=False,\n",
    "    yticklabels=False,\n",
    "    vmin=0,\n",
    "    vmax=math.pi,\n",
    ")\n",
    "ax.set_xlabel(r\"$x$\", fontsize=14)\n",
    "ax.set_ylabel(r\"$y$\", fontsize=14)\n",
    "cbar = ax.collections[0].colorbar\n",
    "cbar.set_ticks([0, math.pi])\n",
    "cbar.set_ticklabels([\"0\", r\"$\\pi$\"])\n",
    "plt.tight_layout()\n",
    "plt.show()"
   ]
  },
  {
   "cell_type": "markdown",
   "id": "725558fe",
   "metadata": {},
   "source": [
    "#### Theoretical $n_x$"
   ]
  },
  {
   "cell_type": "code",
   "execution_count": null,
   "id": "14777ee1",
   "metadata": {},
   "outputs": [],
   "source": [
    "im_nx_np_t = np.array(list(im_nx_t.values()))\n",
    "nx_t_ = np.reshape(im_nx_np_t, (im_size_x, im_size_y))\n",
    "\n",
    "plt.rcParams[\"figure.figsize\"] = (8, 6)\n",
    "ax = sns.heatmap(\n",
    "    nx_t, cmap=\"YlGnBu\", xticklabels=False, yticklabels=False, vmin=-1, vmax=1\n",
    ")\n",
    "ax.set_xlabel(r\"$x$\", fontsize=14)\n",
    "ax.set_ylabel(r\"$y$\", fontsize=14)\n",
    "cbar = ax.collections[0].colorbar\n",
    "cbar.set_ticks([-1, 1])\n",
    "cbar.set_ticklabels([\"-1\", \"1\"])\n",
    "plt.tight_layout()"
   ]
  },
  {
   "cell_type": "markdown",
   "id": "9241000e",
   "metadata": {},
   "source": [
    "#### Reconstructed $n_x$"
   ]
  },
  {
   "cell_type": "code",
   "execution_count": null,
   "id": "c770d40f",
   "metadata": {},
   "outputs": [],
   "source": [
    "im_nx_np = np.array(list(im_nx.values()))\n",
    "nx_ = np.reshape(im_nx_np, (im_size_x, im_size_y))\n",
    "\n",
    "plt.rcParams[\"figure.figsize\"] = (8, 6)\n",
    "ax = sns.heatmap(\n",
    "    nx_,\n",
    "    cmap=\"YlGnBu\",\n",
    "    xticklabels=False,\n",
    "    yticklabels=False,\n",
    "    vmin=-1,\n",
    "    vmax=1,\n",
    ")\n",
    "ax.set_xlabel(r\"$x$\", fontsize=14)\n",
    "ax.set_ylabel(r\"$y$\", fontsize=14)\n",
    "cbar = ax.collections[0].colorbar\n",
    "cbar.set_ticks([-1, 1])\n",
    "cbar.set_ticklabels([\"-1\", \"1\"])\n",
    "plt.tight_layout()"
   ]
  },
  {
   "cell_type": "markdown",
   "id": "cf19abe2",
   "metadata": {},
   "source": [
    "#### Theoretical $n_y$"
   ]
  },
  {
   "cell_type": "code",
   "execution_count": null,
   "id": "9a7beeb6",
   "metadata": {},
   "outputs": [],
   "source": [
    "fig = plt.plot()\n",
    "im_ny_np_t = np.array(list(im_ny_t.values()))\n",
    "ny_t = np.reshape(im_ny_np_t, (im_size_x, im_size_y))\n",
    "\n",
    "\n",
    "plt.rcParams[\"figure.figsize\"] = (8, 6)\n",
    "ax = sns.heatmap(\n",
    "    ny_t, cmap=\"YlGnBu\", xticklabels=False, yticklabels=False, vmin=-1, vmax=1\n",
    ")\n",
    "ax.set_xlabel(r\"$x$\", fontsize=14)\n",
    "ax.set_ylabel(r\"$y$\", fontsize=14)\n",
    "cbar = ax.collections[0].colorbar\n",
    "cbar.set_ticks([-1, 1])\n",
    "cbar.set_ticklabels([\"-1\", \"1\"])\n",
    "plt.tight_layout()"
   ]
  },
  {
   "cell_type": "markdown",
   "id": "233f9e3d",
   "metadata": {},
   "source": [
    "#### Reconstructed $n_y$"
   ]
  },
  {
   "cell_type": "code",
   "execution_count": null,
   "id": "59b206cb",
   "metadata": {},
   "outputs": [],
   "source": [
    "fig = plt.plot()\n",
    "im_ny_np = np.array(list(im_ny.values()))\n",
    "ny_ = np.reshape(im_ny_np, (im_size_x, im_size_y))\n",
    "\n",
    "plt.rcParams[\"figure.figsize\"] = (8, 6)\n",
    "ax = sns.heatmap(\n",
    "    ny_,\n",
    "    cmap=\"YlGnBu\",\n",
    "    xticklabels=False,\n",
    "    yticklabels=False,\n",
    "    vmin=-1,\n",
    "    vmax=1,\n",
    ")\n",
    "ax.set_xlabel(r\"$x$\", fontsize=14)\n",
    "ax.set_ylabel(r\"$y$\", fontsize=14)\n",
    "cbar = ax.collections[0].colorbar\n",
    "cbar.set_ticks([-1, 1])\n",
    "cbar.set_ticklabels([\"-1\", \"1\"])\n",
    "plt.tight_layout()"
   ]
  },
  {
   "cell_type": "markdown",
   "id": "c4ad16da",
   "metadata": {},
   "source": [
    "#### Theoretical $n_z$"
   ]
  },
  {
   "cell_type": "code",
   "execution_count": null,
   "id": "88e2e895",
   "metadata": {},
   "outputs": [],
   "source": [
    "im_nz_np_t = np.array(list(im_nz_t.values()))\n",
    "nz_t_ = np.reshape(im_nz_np_t, (im_size_x, im_size_y))\n",
    "\n",
    "plt.rcParams[\"figure.figsize\"] = (8, 6)\n",
    "ax = sns.heatmap(\n",
    "    nz_t, cmap=\"YlGnBu\", xticklabels=False, yticklabels=False, vmin=-1, vmax=1\n",
    ")\n",
    "ax.set_xlabel(r\"$x$\", fontsize=14)\n",
    "ax.set_ylabel(r\"$y$\", fontsize=14)\n",
    "cbar = ax.collections[0].colorbar\n",
    "cbar.set_ticks([-1, 1])\n",
    "cbar.set_ticklabels([\"-1\", \"1\"])\n",
    "plt.tight_layout()"
   ]
  },
  {
   "cell_type": "markdown",
   "id": "20cf136f",
   "metadata": {},
   "source": [
    "#### Reconstructed $n_z$"
   ]
  },
  {
   "cell_type": "code",
   "execution_count": null,
   "id": "916a96f6",
   "metadata": {},
   "outputs": [],
   "source": [
    "im_nz_np = np.array(list(im_nz.values()))\n",
    "nz_ = np.reshape(im_nz_np, (im_size_x, im_size_y))\n",
    "\n",
    "\n",
    "plt.rcParams[\"figure.figsize\"] = (8, 6)\n",
    "ax = sns.heatmap(\n",
    "    nz_,\n",
    "    cmap=\"YlGnBu\",\n",
    "    xticklabels=False,\n",
    "    yticklabels=False,\n",
    "    vmin=-1,\n",
    "    vmax=1,\n",
    ")\n",
    "ax.set_xlabel(r\"$x$\", fontsize=14)\n",
    "ax.set_ylabel(r\"$y$\", fontsize=14)\n",
    "cbar = ax.collections[0].colorbar\n",
    "cbar.set_ticks([-1, 1])\n",
    "cbar.set_ticklabels([\"-1\", \"1\"])\n",
    "plt.tight_layout()"
   ]
  },
  {
   "cell_type": "code",
   "execution_count": null,
   "id": "bdc25460",
   "metadata": {},
   "outputs": [],
   "source": []
  }
 ],
 "metadata": {
  "kernelspec": {
   "display_name": "Python 3",
   "language": "python",
   "name": "python3"
  },
  "language_info": {
   "codemirror_mode": {
    "name": "ipython",
    "version": 3
   },
   "file_extension": ".py",
   "mimetype": "text/x-python",
   "name": "python",
   "nbconvert_exporter": "python",
   "pygments_lexer": "ipython3",
   "version": "3.9.12"
  }
 },
 "nbformat": 4,
 "nbformat_minor": 5
}
