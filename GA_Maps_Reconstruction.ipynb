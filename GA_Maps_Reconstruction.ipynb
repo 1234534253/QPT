{
 "cells": [
  {
   "cell_type": "markdown",
   "id": "826358d4",
   "metadata": {},
   "source": [
    "# Quantum Process Tomography via Genetic Algorithms\n",
    "\n",
    "## Experimental Transformation\n",
    "___\n",
    "\n",
    "This notebook aims at reproducing the experiments proposed in Section V. of 'Retrieving complex polarization transformations via optimized quantum process tomography', paper submitted to ... .\n",
    "\n",
    "By means of this code you can reconstruct the images available in the git repository.\n",
    "\n",
    "You can easly use the code for your problem, by modelling the measured data in a similar way to the data available in the repository. \n",
    "\n",
    "________\n",
    "\n",
    "Let us start by importing the required libraries:"
   ]
  },
  {
   "cell_type": "code",
   "execution_count": null,
   "id": "c0320b13",
   "metadata": {},
   "outputs": [],
   "source": [
    "from deap import base\n",
    "from deap import creator\n",
    "from deap import tools\n",
    "import numpy as np\n",
    "import random\n",
    "import math\n",
    "import pandas as pd\n",
    "import time\n",
    "import itertools\n",
    "import utils.GA_utils as GA_utils\n",
    "import statistics\n",
    "import seaborn as sns\n",
    "import matplotlib.pyplot as plt"
   ]
  },
  {
   "cell_type": "markdown",
   "id": "8959c36c",
   "metadata": {},
   "source": [
    "Then, the genetic reconstruction of the whole experimental image can start. \n",
    "\n",
    "Firstily, we define the fitness function of the problem."
   ]
  },
  {
   "cell_type": "code",
   "execution_count": null,
   "id": "30d5dabc",
   "metadata": {},
   "outputs": [],
   "source": [
    "def evaluate(HH, LL, HL, LD, LH, HD, individual):\n",
    "    Energy, nx, ny, nz = individual[0], individual[1], individual[2], individual[3]\n",
    "    f = ((math.cos(Energy)**2 - HH + nx**2 * math.sin(Energy)**2)**2) / HH + ((math.cos(Energy)**2 - LL + nz**2 * math.sin(Energy)**2)**2) / LL + ( ( -HL + 1/2 * (math.cos(Energy)**2 - 2 * ny * math.cos(Energy) * math.sin(Energy) + (ny**2 + (nx + nz)**2) * math.sin(Energy)**2))**2 )/ HL + ( ( -LD + 1/2 * (math.cos(Energy)**2 - 2 * nx * math.cos(Energy) * math.sin(Energy) + (nx**2 + (ny + nz)**2) * math.sin(Energy)**2))**2 ) / LD + ((-LH + 1/2 * (math.cos(Energy)**2 + (ny**2 + (nx + nz)**2) * math.sin(Energy)**2 + ny * math.sin(2 * Energy)))**2 )/ LH + (( -HD + 1/2 * (math.cos(Energy)**2 + ((nx + ny)**2 + nz**2) * math.sin(Energy)**2 +nz * math.sin(2 * Energy)))**2)/ HD\n",
    "    return f"
   ]
  },
  {
   "cell_type": "markdown",
   "id": "96a2dc96",
   "metadata": {},
   "source": [
    "Secondly, we define the hyperparameter of the GA. \n",
    "\n",
    "The parameters below refer to those reported in the paper. "
   ]
  },
  {
   "cell_type": "code",
   "execution_count": null,
   "id": "f2234ac4",
   "metadata": {},
   "outputs": [],
   "source": [
    "POP_SIZE = 30\n",
    "CXPB = 0.8\n",
    "MUTPB = 0.1\n",
    "NGEN = 100\n",
    "STATS = GA_utils.createStats()\n",
    "pop_list = None\n",
    "TS_SIZE = 3"
   ]
  },
  {
   "cell_type": "markdown",
   "id": "5c939b41",
   "metadata": {},
   "source": [
    "The function `compute_unitary` will be used for computing the unitary $U$, given $\\Theta\\in[0,\\pi]$ and $\\mathbf{n}=(n_x,n_y,n_z)$ according to:\n",
    "\n",
    "\\begin{equation}\n",
    "U=\\begin{pmatrix}\n",
    "\\cos \\Theta -i \\sin \\Theta \\,n_z && -i\\sin \\Theta \\,(n_x-i n_y)\\\\\n",
    "-i\\sin \\Theta \\,(n_x+i n_y) && \\cos \\Theta + i \\sin \\Theta \\,n_z\n",
    "\\end{pmatrix}\n",
    "\\end{equation}"
   ]
  },
  {
   "cell_type": "code",
   "execution_count": null,
   "id": "09cf74bd",
   "metadata": {},
   "outputs": [],
   "source": [
    "def compute_unitary(Theta, nx, ny, nz):\n",
    "    I = np.array([[1, 0], [0, 1]])\n",
    "    sx = np.matrix([[0, 1], [1, 0]])\n",
    "    sy = np.matrix([[0, -1j], [1j, 0]])\n",
    "    sz = np.matrix([[1, 0], [0, -1]])\n",
    "    return math.cos(Theta) * I - 1j * math.sin(Theta) * (nx * sx + ny * sy + nz * sz)"
   ]
  },
  {
   "cell_type": "markdown",
   "id": "5a72237a",
   "metadata": {},
   "source": [
    "By running the following cell you can import the experimental data.\n",
    "\n",
    "Please select a problem from 1 to 3, for replicating the experiment reported in the paper. "
   ]
  },
  {
   "cell_type": "code",
   "execution_count": null,
   "id": "8d693550",
   "metadata": {},
   "outputs": [],
   "source": [
    "problem = \"3\"\n",
    "path = \"experimental_data_73/\"\n",
    "LL = np.loadtxt(path + problem + \"/LL.txt\", dtype=\"f\", delimiter=\"\\t\")\n",
    "DL = np.loadtxt(path + problem + \"/DL.txt\", dtype=\"f\", delimiter=\"\\t\")\n",
    "HH = np.loadtxt(path + problem + \"/HH.txt\", dtype=\"f\", delimiter=\"\\t\")\n",
    "HL = np.loadtxt(path + problem + \"/HL.txt\", dtype=\"f\", delimiter=\"\\t\")\n",
    "LD = np.loadtxt(path + problem + \"/LD.txt\", dtype=\"f\", delimiter=\"\\t\")\n",
    "LH = np.loadtxt(path + problem + \"/LH.txt\", dtype=\"f\", delimiter=\"\\t\")\n",
    "HD = np.loadtxt(path + problem + \"/HD.txt\", dtype=\"f\", delimiter=\"\\t\")\n",
    "print(LL.shape, HH.shape, HL.shape, LD.shape, LH.shape, HD.shape)"
   ]
  },
  {
   "cell_type": "code",
   "execution_count": null,
   "id": "0259e5bc",
   "metadata": {},
   "outputs": [],
   "source": [
    "theta_t = np.loadtxt(path+problem+\"/thetath.txt\", dtype='f', delimiter='\\t')\n",
    "nx_t = np.loadtxt(path+problem+\"/nxth.txt\", dtype='f', delimiter='\\t')\n",
    "ny_t = np.loadtxt(path+problem+\"/nyth.txt\", dtype='f', delimiter='\\t')\n",
    "nz_t = np.loadtxt(path+problem+\"/nzth.txt\", dtype='f', delimiter='\\t')"
   ]
  },
  {
   "cell_type": "markdown",
   "id": "2a5e7517",
   "metadata": {},
   "source": [
    "The following cells start the reconstruction pixel by pixel of the image. "
   ]
  },
  {
   "cell_type": "code",
   "execution_count": null,
   "id": "916d9106",
   "metadata": {},
   "outputs": [],
   "source": [
    "im_size_x, im_size_y = 73, 73"
   ]
  },
  {
   "cell_type": "code",
   "execution_count": null,
   "id": "0f541ddf",
   "metadata": {},
   "outputs": [],
   "source": [
    "toolbox = GA_utils.createToolbox()\n",
    "toolbox.decorate(\"mutate\", GA_utils.checkBounds(0, np.pi))\n",
    "toolbox.decorate(\"mate\", GA_utils.checkBounds(0, np.pi))\n",
    "\n",
    "final_pop_pixels = {\n",
    "    str(pixel[0]) + \"_\" + str(pixel[1]): \"\"\n",
    "    for pixel in itertools.product(\n",
    "        [i for i in range(im_size_x)], [j for j in range(im_size_y)]\n",
    "    )\n",
    "}\n",
    "best_ind_pixels = {\n",
    "    str(pixel[0]) + \"_\" + str(pixel[1]): \"\"\n",
    "    for pixel in itertools.product(\n",
    "        [i for i in range(im_size_x)], [j for j in range(im_size_y)]\n",
    "    )\n",
    "}\n",
    "start_time = time.time()\n",
    "for i in range(im_size_x):\n",
    "    for j in range(im_size_y):\n",
    "        toolbox.register(\n",
    "            \"evaluate\",\n",
    "            evaluate,\n",
    "            HH[i][j],\n",
    "            LL[i][j],\n",
    "            HL[i][j],\n",
    "            LD[i][j],\n",
    "            LH[i][j],\n",
    "            HD[i][j],\n",
    "        )\n",
    "\n",
    "        if i == 0 and j == 0:\n",
    "            s = True\n",
    "            NGEN = NGEN\n",
    "        else:\n",
    "            s = False\n",
    "            NGEN = 10\n",
    "\n",
    "        GA = GA_utils.updateGA_Map(\n",
    "            toolbox,\n",
    "            pixel=(i, j),\n",
    "            im_size_x=im_size_x,\n",
    "            im_size_y=im_size_y,\n",
    "            best_ind_pixels=best_ind_pixels,\n",
    "            pop_size=POP_SIZE,\n",
    "            cxpb=CXPB,\n",
    "            mutpb=MUTPB,\n",
    "            ngen=NGEN,\n",
    "            stats=STATS,\n",
    "            tourn_size=TS_SIZE,\n",
    "            hof=tools.HallOfFame(1),\n",
    "            starting_point=s,\n",
    "            verbose=False,\n",
    "        )\n",
    "        (\n",
    "            final_pop_pixels[str(i) + \"_\" + str(j)],\n",
    "            best_ind_pixels[str(i) + \"_\" + str(j)],\n",
    "        ) = (GA[0], GA[2][0])\n",
    "print(\"Reconstruction time in s: \", time.time() - start_time)"
   ]
  },
  {
   "cell_type": "markdown",
   "id": "1b663be3",
   "metadata": {},
   "source": [
    "By executing the following cell you can computing the fidelities of the reconstructed processes"
   ]
  },
  {
   "cell_type": "code",
   "execution_count": null,
   "id": "cfd73d05",
   "metadata": {},
   "outputs": [],
   "source": [
    "fidelities = {}\n",
    "im_theta, im_theta_t = {},{}\n",
    "im_nx, im_nx_t = {},{}\n",
    "im_ny, im_ny_t = {},{}\n",
    "im_nz, im_nz_t = {},{}\n",
    "\n",
    "for i in range(im_size_x):\n",
    "    for j in range(im_size_y):\n",
    "        individual = best_ind_pixels[str(i)+'_'+str(j)]\n",
    "        theta = individual[0]\n",
    "        nx = individual[1]\n",
    "        ny = individual[2]\n",
    "        nz = individual[3]\n",
    "        im_theta[str(i)+'_'+str(j)], im_nx[str(i)+'_'+str(j)], im_ny[str(i)+'_'+str(j)], im_nz[str(i)+'_'+str(j)]= theta,nx,ny,nz\n",
    "\n",
    "        computed_u = compute_unitary(theta, nx, ny, nz)\n",
    "        data_u = compute_unitary(theta_t[i][j],nx_t[i][j],ny_t[i][j],nz_t[i][j])\n",
    "        im_theta_t[str(i)+'_'+str(j)], im_nx_t[str(i)+'_'+str(j)], im_ny_t[str(i)+'_'+str(j)], im_nz_t[str(i)+'_'+str(j)]= theta_t[i][j],nx_t[i][j],ny_t[i][j],nz_t[i][j]\n",
    "        F = 0.5 * np.linalg.norm(np.trace(data_u.getH() * computed_u))\n",
    "        fidelities[str(i)+'_'+str(j)]=F"
   ]
  },
  {
   "cell_type": "markdown",
   "id": "d60b472b",
   "metadata": {},
   "source": [
    "The mean fidelity is computed in the following cell:"
   ]
  },
  {
   "cell_type": "code",
   "execution_count": null,
   "id": "17b364fc",
   "metadata": {},
   "outputs": [],
   "source": [
    "print(statistics.mean(list(fidelities.values())))"
   ]
  },
  {
   "cell_type": "markdown",
   "id": "614652fa",
   "metadata": {},
   "source": [
    "Let's graphically analyze the results."
   ]
  },
  {
   "cell_type": "markdown",
   "id": "f35848dc",
   "metadata": {},
   "source": [
    "#### Theoretical Theta "
   ]
  },
  {
   "cell_type": "code",
   "execution_count": null,
   "id": "0446cea3",
   "metadata": {},
   "outputs": [],
   "source": [
    "im_theta_np_t = np.array(list(im_theta_t.values()))\n",
    "tehta_t_ = np.reshape(im_theta_np_t, (im_size_x, im_size_y))\n",
    "\n",
    "\n",
    "plt.rcParams[\"figure.figsize\"] = (8, 6)\n",
    "ax = sns.heatmap(\n",
    "    theta_t, cmap=\"YlGnBu\", xticklabels=False, yticklabels=False, vmin=0, vmax=math.pi\n",
    ")\n",
    "ax.set_xlabel(r\"$q_x$\", fontsize=14)\n",
    "ax.set_ylabel(r\"$q_y$\", fontsize=14)\n",
    "ax.set_xticks([0, 34])\n",
    "ax.set_xticklabels([\"0\", r\"2$\\pi$\"])\n",
    "ax.set_yticks([0])\n",
    "ax.set_yticklabels([r\"2$\\pi$\"])\n",
    "cbar = ax.collections[0].colorbar\n",
    "cbar.set_ticks([0, math.pi])\n",
    "cbar.set_ticklabels([\"0\", r\"$\\pi$\"])\n",
    "plt.tight_layout()\n",
    "plt.show()"
   ]
  },
  {
   "cell_type": "markdown",
   "id": "01019874",
   "metadata": {},
   "source": [
    "#### Reconstructed Theta"
   ]
  },
  {
   "cell_type": "code",
   "execution_count": null,
   "id": "6c7b0008",
   "metadata": {},
   "outputs": [],
   "source": [
    "im_theta_np = np.array(list(im_theta.values()))\n",
    "theta_ = np.reshape(im_theta_np, (im_size_x, im_size_y))\n",
    "\n",
    "\n",
    "plt.rcParams[\"figure.figsize\"] = (8, 6)\n",
    "ax = sns.heatmap(\n",
    "    theta_,\n",
    "    cmap=\"YlGnBu\",\n",
    "    xticklabels=False,\n",
    "    yticklabels=False,\n",
    "    cbar=False,\n",
    "    vmin=0,\n",
    "    vmax=math.pi,\n",
    ")\n",
    "ax.set_xlabel(r\"$q_x$\", fontsize=14)\n",
    "ax.set_ylabel(r\"$q_y$\", fontsize=14)\n",
    "ax.set_xticks([0, 34])\n",
    "ax.set_xticklabels([\"0\", r\"2$\\pi$\"])\n",
    "ax.set_yticks([0])\n",
    "ax.set_yticklabels([r\"2$\\pi$\"])\n",
    "\n",
    "plt.tight_layout()"
   ]
  },
  {
   "cell_type": "markdown",
   "id": "725558fe",
   "metadata": {},
   "source": [
    "#### Theoretical $N_X$"
   ]
  },
  {
   "cell_type": "code",
   "execution_count": null,
   "id": "14777ee1",
   "metadata": {},
   "outputs": [],
   "source": [
    "im_nx_np_t = np.array(list(im_nx_t.values()))\n",
    "nx_t_ = np.reshape(im_nx_np_t, (im_size_x, im_size_y))\n",
    "\n",
    "plt.rcParams[\"figure.figsize\"] = (8, 6)\n",
    "ax = sns.heatmap(\n",
    "    nx_t, cmap=\"YlGnBu\", xticklabels=False, yticklabels=False, vmin=-1, vmax=1\n",
    ")\n",
    "ax.set_xlabel(r\"$q_x$\", fontsize=14)\n",
    "ax.set_ylabel(r\"$q_y$\", fontsize=14)\n",
    "ax.set_xticks([0, 34])\n",
    "ax.set_xticklabels([\"0\", r\"2$\\pi$\"])\n",
    "ax.set_yticks([0])\n",
    "ax.set_yticklabels([r\"2$\\pi$\"])\n",
    "cbar = ax.collections[0].colorbar\n",
    "cbar.set_ticks([-1, 1])\n",
    "cbar.set_ticklabels([\"-1\", \"1\"])\n",
    "plt.tight_layout()"
   ]
  },
  {
   "cell_type": "markdown",
   "id": "9241000e",
   "metadata": {},
   "source": [
    "#### Reconstructed $n_x$"
   ]
  },
  {
   "cell_type": "code",
   "execution_count": null,
   "id": "c770d40f",
   "metadata": {},
   "outputs": [],
   "source": [
    "im_nx_np = np.array(list(im_nx.values()))\n",
    "nx_ = np.reshape(-im_nx_np, (im_size_x, im_size_y))\n",
    "\n",
    "plt.rcParams[\"figure.figsize\"] = (8, 6)\n",
    "ax = sns.heatmap(\n",
    "    -nx_,\n",
    "    cmap=\"YlGnBu\",\n",
    "    xticklabels=False,\n",
    "    yticklabels=False,\n",
    "    cbar=False,\n",
    "    vmin=-1,\n",
    "    vmax=1,\n",
    ")\n",
    "ax.set_xlabel(r\"$q_x$\", fontsize=14)\n",
    "ax.set_ylabel(r\"$q_y$\", fontsize=14)\n",
    "ax.set_xticks([0, 34])\n",
    "ax.set_xticklabels([\"0\", r\"2$\\pi$\"])\n",
    "ax.set_yticks([0])\n",
    "ax.set_yticklabels([r\"2$\\pi$\"])\n",
    "plt.tight_layout()"
   ]
  },
  {
   "cell_type": "markdown",
   "id": "cf19abe2",
   "metadata": {},
   "source": [
    "#### Theoretical $N_y$"
   ]
  },
  {
   "cell_type": "code",
   "execution_count": null,
   "id": "9a7beeb6",
   "metadata": {},
   "outputs": [],
   "source": [
    "fig = plt.plot()\n",
    "im_ny_np_t = np.array(list(im_ny_t.values()))\n",
    "ny_t = np.reshape(im_ny_np_t, (im_size_x, im_size_y))\n",
    "\n",
    "\n",
    "plt.rcParams[\"figure.figsize\"] = (8, 6)\n",
    "ax = sns.heatmap(\n",
    "    ny_t, cmap=\"YlGnBu\", xticklabels=False, yticklabels=False, vmin=-1, vmax=1\n",
    ")\n",
    "ax.set_xlabel(r\"$q_x$\", fontsize=14)\n",
    "ax.set_ylabel(r\"$q_y$\", fontsize=14)\n",
    "ax.set_xticks([0, 34])\n",
    "ax.set_xticklabels([\"0\", r\"2$\\pi$\"])\n",
    "ax.set_yticks([0])\n",
    "ax.set_yticklabels([r\"2$\\pi$\"])\n",
    "cbar = ax.collections[0].colorbar\n",
    "cbar.set_ticks([-1, 1])\n",
    "cbar.set_ticklabels([\"-1\", \"1\"])\n",
    "plt.tight_layout()"
   ]
  },
  {
   "cell_type": "markdown",
   "id": "233f9e3d",
   "metadata": {},
   "source": [
    "#### Reconstructed $N_y$"
   ]
  },
  {
   "cell_type": "code",
   "execution_count": null,
   "id": "59b206cb",
   "metadata": {},
   "outputs": [],
   "source": [
    "fig = plt.plot()\n",
    "im_ny_np = np.array(list(im_ny.values()))\n",
    "ny_ = np.reshape(im_ny_np, (im_size_x, im_size_y))\n",
    "\n",
    "plt.rcParams[\"figure.figsize\"] = (8, 6)\n",
    "ax = sns.heatmap(\n",
    "    ny_,\n",
    "    cmap=\"YlGnBu\",\n",
    "    xticklabels=False,\n",
    "    yticklabels=False,\n",
    "    cbar=False,\n",
    "    vmin=-1,\n",
    "    vmax=1,\n",
    ")\n",
    "ax.set_xlabel(r\"$q_x$\", fontsize=14)\n",
    "ax.set_ylabel(r\"$q_y$\", fontsize=14)\n",
    "ax.set_xticks([0, 34])\n",
    "ax.set_xticklabels([\"0\", r\"2$\\pi$\"])\n",
    "ax.set_yticks([0])\n",
    "ax.set_yticklabels([r\"2$\\pi$\"])\n",
    "plt.tight_layout()"
   ]
  },
  {
   "cell_type": "markdown",
   "id": "c4ad16da",
   "metadata": {},
   "source": [
    "#### Theoretical $N_z$"
   ]
  },
  {
   "cell_type": "code",
   "execution_count": null,
   "id": "88e2e895",
   "metadata": {},
   "outputs": [],
   "source": [
    "im_nz_np_t = np.array(list(im_nz_t.values()))\n",
    "nz_t_ = np.reshape(im_nz_np_t, (im_size_x, im_size_y))\n",
    "\n",
    "plt.rcParams[\"figure.figsize\"] = (8, 6)\n",
    "ax = sns.heatmap(\n",
    "    nz_t, cmap=\"YlGnBu\", xticklabels=False, yticklabels=False, vmin=-1, vmax=1\n",
    ")\n",
    "ax.set_xlabel(r\"$q_x$\", fontsize=14)\n",
    "ax.set_ylabel(r\"$q_y$\", fontsize=14)\n",
    "ax.set_xticks([0, 34])\n",
    "ax.set_xticklabels([\"0\", r\"2$\\pi$\"])\n",
    "ax.set_yticks([0])\n",
    "ax.set_yticklabels([r\"2$\\pi$\"])\n",
    "cbar = ax.collections[0].colorbar\n",
    "cbar.set_ticks([-1, 1])\n",
    "cbar.set_ticklabels([\"-1\", \"1\"])\n",
    "plt.tight_layout()"
   ]
  },
  {
   "cell_type": "markdown",
   "id": "20cf136f",
   "metadata": {},
   "source": [
    "#### Reconstructed $N_z$"
   ]
  },
  {
   "cell_type": "code",
   "execution_count": null,
   "id": "916a96f6",
   "metadata": {},
   "outputs": [],
   "source": [
    "im_nz_np = np.array(list(im_nz.values()))\n",
    "nz_ = np.reshape(im_nz_np, (im_size_x, im_size_y))\n",
    "\n",
    "\n",
    "plt.rcParams[\"figure.figsize\"] = (8, 6)\n",
    "ax = sns.heatmap(\n",
    "    nz_,\n",
    "    cmap=\"YlGnBu\",\n",
    "    xticklabels=False,\n",
    "    yticklabels=False,\n",
    "    cbar=False,\n",
    "    vmin=-1,\n",
    "    vmax=1,\n",
    ")\n",
    "ax.set_xlabel(r\"$q_x$\", fontsize=14)\n",
    "ax.set_ylabel(r\"$q_y$\", fontsize=14)\n",
    "ax.set_xticks([0, 34])\n",
    "ax.set_xticklabels([\"0\", r\"2$\\pi$\"])\n",
    "ax.set_yticks([0])\n",
    "ax.set_yticklabels([r\"2$\\pi$\"])\n",
    "plt.tight_layout()"
   ]
  }
 ],
 "metadata": {
  "kernelspec": {
   "display_name": "general",
   "language": "python",
   "name": "general"
  },
  "language_info": {
   "codemirror_mode": {
    "name": "ipython",
    "version": 3
   },
   "file_extension": ".py",
   "mimetype": "text/x-python",
   "name": "python",
   "nbconvert_exporter": "python",
   "pygments_lexer": "ipython3",
   "version": "3.7.11"
  }
 },
 "nbformat": 4,
 "nbformat_minor": 5
}
